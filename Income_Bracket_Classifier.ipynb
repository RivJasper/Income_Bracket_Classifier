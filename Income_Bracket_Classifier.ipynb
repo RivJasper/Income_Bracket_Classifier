{
 "cells": [
  {
   "attachments": {},
   "cell_type": "markdown",
   "metadata": {},
   "source": [
    "# Income Bracket Classifier"
   ]
  },
  {
   "cell_type": "markdown",
   "metadata": {},
   "source": [
    "## Description\n",
    "\n",
    "### Objective\n",
    "`Make a Classification Model using Logistic Regression's Method and SVM to predict income bracket.`\n",
    "### Problem Statement\n",
    "`1. What are columns that able to affect the income bracket significantly ?`\n",
    "<br>\n",
    "`2. Which one is better between Logistic Regression and SVM to predict income bracket ?`\n",
    "<br>\n",
    "`3. How much data is wrongly predicted ?`\n",
    "<br>\n",
    "`4. How to improve the model prediction ?`"
   ]
  },
  {
   "cell_type": "markdown",
   "metadata": {},
   "source": [
    "## Working Area\n",
    "### 1. Import Libraries"
   ]
  },
  {
   "cell_type": "code",
   "execution_count": 994,
   "metadata": {},
   "outputs": [],
   "source": [
    "# Import libraries\n",
    "import pandas as pd\n",
    "import numpy as np\n",
    "import matplotlib.pyplot as plt\n",
    "import seaborn as sns\n",
    "\n",
    "# Outliers handling\n",
    "from feature_engine.outliers import Winsorizer\n",
    "\n",
    "# Data Splitting\n",
    "from sklearn.model_selection import train_test_split\n",
    "\n",
    "# Numerical features scaling\n",
    "from sklearn.preprocessing import MinMaxScaler\n",
    "from sklearn.preprocessing import StandardScaler\n",
    "\n",
    "# Categorical features encoding\n",
    "from sklearn.preprocessing import OrdinalEncoder\n",
    "\n",
    "# Feature selection\n",
    "from sklearn.feature_selection import SelectKBest\n",
    "from sklearn.feature_selection import f_classif\n",
    "from sklearn.feature_selection import chi2\n",
    "\n",
    "# Import models\n",
    "from sklearn.linear_model import LogisticRegression\n",
    "from sklearn.svm import SVC\n",
    "\n",
    "# Model evaluation\n",
    "from sklearn.metrics import accuracy_score, classification_report, plot_confusion_matrix\n",
    "\n",
    "# Ignore the warning notes\n",
    "import warnings\n",
    "warnings.filterwarnings(\"ignore\")"
   ]
  },
  {
   "cell_type": "markdown",
   "metadata": {},
   "source": [
    "### 2. Data Loading\n",
    "Extracting dataset from Big Query, using following command to obtain the dataset with the precise criteria*:\n",
    "<br>\n",
    "`SELECT age, workclass, education, education_num, marital_status, occupation, relationship, race, sex, capital_gain, capital_loss, hours_per_week, native_country, income_bracket`\n",
    "<br>\n",
    "`FROM bigquery-public-data.ml_datasets.census_adult_income`\n",
    "<br>\n",
    "`WHERE workclass != ' ?' AND hours_per_week < 100`\n",
    "<br>\n",
    "`LIMIT 32000`\n",
    "<br>\n",
    "and save is as 'Raw_census_adult_income` with csv format.\n",
    "<br>\n",
    "(*) note : Data criteria\n",
    "<br>\n",
    "column names : age, workclass, education, education_num, marital_status, occupation, relationship, race, sex, capital_gain, capital_loss, hours_per_week, native_country, and income_bracket.\n",
    "<br>\n",
    "workclass : anything but ' ?'.\n",
    "<br>\n",
    "hours_per_week : less than 100.\n",
    "<br>\n",
    "number of rows : 32000 ( unfortunately, the total number of dataset is less than 32000 )."
   ]
  },
  {
   "cell_type": "code",
   "execution_count": 995,
   "metadata": {},
   "outputs": [],
   "source": [
    "# Load the dataset and transform it into dataframe\n",
    "df = pd.read_csv('Raw_census_adult_income.csv')"
   ]
  },
  {
   "cell_type": "code",
   "execution_count": 996,
   "metadata": {},
   "outputs": [
    {
     "data": {
      "text/html": [
       "<div>\n",
       "<style scoped>\n",
       "    .dataframe tbody tr th:only-of-type {\n",
       "        vertical-align: middle;\n",
       "    }\n",
       "\n",
       "    .dataframe tbody tr th {\n",
       "        vertical-align: top;\n",
       "    }\n",
       "\n",
       "    .dataframe thead th {\n",
       "        text-align: right;\n",
       "    }\n",
       "</style>\n",
       "<table border=\"1\" class=\"dataframe\">\n",
       "  <thead>\n",
       "    <tr style=\"text-align: right;\">\n",
       "      <th></th>\n",
       "      <th>age</th>\n",
       "      <th>workclass</th>\n",
       "      <th>education</th>\n",
       "      <th>education_num</th>\n",
       "      <th>marital_status</th>\n",
       "      <th>occupation</th>\n",
       "      <th>relationship</th>\n",
       "      <th>race</th>\n",
       "      <th>sex</th>\n",
       "      <th>capital_gain</th>\n",
       "      <th>capital_loss</th>\n",
       "      <th>hours_per_week</th>\n",
       "      <th>native_country</th>\n",
       "      <th>income_bracket</th>\n",
       "    </tr>\n",
       "  </thead>\n",
       "  <tbody>\n",
       "    <tr>\n",
       "      <th>0</th>\n",
       "      <td>18</td>\n",
       "      <td>Never-worked</td>\n",
       "      <td>Some-college</td>\n",
       "      <td>10</td>\n",
       "      <td>Never-married</td>\n",
       "      <td>?</td>\n",
       "      <td>Own-child</td>\n",
       "      <td>White</td>\n",
       "      <td>Male</td>\n",
       "      <td>0</td>\n",
       "      <td>0</td>\n",
       "      <td>4</td>\n",
       "      <td>United-States</td>\n",
       "      <td>&lt;=50K</td>\n",
       "    </tr>\n",
       "    <tr>\n",
       "      <th>1</th>\n",
       "      <td>37</td>\n",
       "      <td>Private</td>\n",
       "      <td>12th</td>\n",
       "      <td>8</td>\n",
       "      <td>Married-civ-spouse</td>\n",
       "      <td>Sales</td>\n",
       "      <td>Wife</td>\n",
       "      <td>Asian-Pac-Islander</td>\n",
       "      <td>Female</td>\n",
       "      <td>0</td>\n",
       "      <td>0</td>\n",
       "      <td>33</td>\n",
       "      <td>?</td>\n",
       "      <td>&lt;=50K</td>\n",
       "    </tr>\n",
       "    <tr>\n",
       "      <th>2</th>\n",
       "      <td>39</td>\n",
       "      <td>Self-emp-not-inc</td>\n",
       "      <td>HS-grad</td>\n",
       "      <td>9</td>\n",
       "      <td>Married-civ-spouse</td>\n",
       "      <td>Sales</td>\n",
       "      <td>Wife</td>\n",
       "      <td>Black</td>\n",
       "      <td>Female</td>\n",
       "      <td>0</td>\n",
       "      <td>0</td>\n",
       "      <td>54</td>\n",
       "      <td>Dominican-Republic</td>\n",
       "      <td>&gt;50K</td>\n",
       "    </tr>\n",
       "    <tr>\n",
       "      <th>3</th>\n",
       "      <td>29</td>\n",
       "      <td>Private</td>\n",
       "      <td>HS-grad</td>\n",
       "      <td>9</td>\n",
       "      <td>Married-civ-spouse</td>\n",
       "      <td>Sales</td>\n",
       "      <td>Wife</td>\n",
       "      <td>White</td>\n",
       "      <td>Female</td>\n",
       "      <td>0</td>\n",
       "      <td>0</td>\n",
       "      <td>18</td>\n",
       "      <td>United-States</td>\n",
       "      <td>&lt;=50K</td>\n",
       "    </tr>\n",
       "    <tr>\n",
       "      <th>4</th>\n",
       "      <td>64</td>\n",
       "      <td>Private</td>\n",
       "      <td>HS-grad</td>\n",
       "      <td>9</td>\n",
       "      <td>Married-civ-spouse</td>\n",
       "      <td>Sales</td>\n",
       "      <td>Wife</td>\n",
       "      <td>White</td>\n",
       "      <td>Female</td>\n",
       "      <td>0</td>\n",
       "      <td>0</td>\n",
       "      <td>21</td>\n",
       "      <td>United-States</td>\n",
       "      <td>&lt;=50K</td>\n",
       "    </tr>\n",
       "  </tbody>\n",
       "</table>\n",
       "</div>"
      ],
      "text/plain": [
       "   age          workclass      education  education_num       marital_status  \\\n",
       "0   18       Never-worked   Some-college             10        Never-married   \n",
       "1   37            Private           12th              8   Married-civ-spouse   \n",
       "2   39   Self-emp-not-inc        HS-grad              9   Married-civ-spouse   \n",
       "3   29            Private        HS-grad              9   Married-civ-spouse   \n",
       "4   64            Private        HS-grad              9   Married-civ-spouse   \n",
       "\n",
       "  occupation relationship                 race      sex  capital_gain  \\\n",
       "0          ?    Own-child                White     Male             0   \n",
       "1      Sales         Wife   Asian-Pac-Islander   Female             0   \n",
       "2      Sales         Wife                Black   Female             0   \n",
       "3      Sales         Wife                White   Female             0   \n",
       "4      Sales         Wife                White   Female             0   \n",
       "\n",
       "   capital_loss  hours_per_week       native_country income_bracket  \n",
       "0             0               4        United-States          <=50K  \n",
       "1             0              33                    ?          <=50K  \n",
       "2             0              54   Dominican-Republic           >50K  \n",
       "3             0              18        United-States          <=50K  \n",
       "4             0              21        United-States          <=50K  "
      ]
     },
     "execution_count": 996,
     "metadata": {},
     "output_type": "execute_result"
    }
   ],
   "source": [
    "# Show the dataset head\n",
    "df.head()"
   ]
  },
  {
   "cell_type": "code",
   "execution_count": 997,
   "metadata": {},
   "outputs": [
    {
     "data": {
      "text/html": [
       "<div>\n",
       "<style scoped>\n",
       "    .dataframe tbody tr th:only-of-type {\n",
       "        vertical-align: middle;\n",
       "    }\n",
       "\n",
       "    .dataframe tbody tr th {\n",
       "        vertical-align: top;\n",
       "    }\n",
       "\n",
       "    .dataframe thead th {\n",
       "        text-align: right;\n",
       "    }\n",
       "</style>\n",
       "<table border=\"1\" class=\"dataframe\">\n",
       "  <thead>\n",
       "    <tr style=\"text-align: right;\">\n",
       "      <th></th>\n",
       "      <th>age</th>\n",
       "      <th>workclass</th>\n",
       "      <th>education</th>\n",
       "      <th>education_num</th>\n",
       "      <th>marital_status</th>\n",
       "      <th>occupation</th>\n",
       "      <th>relationship</th>\n",
       "      <th>race</th>\n",
       "      <th>sex</th>\n",
       "      <th>capital_gain</th>\n",
       "      <th>capital_loss</th>\n",
       "      <th>hours_per_week</th>\n",
       "      <th>native_country</th>\n",
       "      <th>income_bracket</th>\n",
       "    </tr>\n",
       "  </thead>\n",
       "  <tbody>\n",
       "    <tr>\n",
       "      <th>30720</th>\n",
       "      <td>50</td>\n",
       "      <td>Self-emp-inc</td>\n",
       "      <td>Some-college</td>\n",
       "      <td>10</td>\n",
       "      <td>Married-civ-spouse</td>\n",
       "      <td>Machine-op-inspct</td>\n",
       "      <td>Husband</td>\n",
       "      <td>White</td>\n",
       "      <td>Male</td>\n",
       "      <td>0</td>\n",
       "      <td>0</td>\n",
       "      <td>70</td>\n",
       "      <td>Germany</td>\n",
       "      <td>&lt;=50K</td>\n",
       "    </tr>\n",
       "    <tr>\n",
       "      <th>30721</th>\n",
       "      <td>21</td>\n",
       "      <td>Private</td>\n",
       "      <td>Some-college</td>\n",
       "      <td>10</td>\n",
       "      <td>Never-married</td>\n",
       "      <td>Machine-op-inspct</td>\n",
       "      <td>Own-child</td>\n",
       "      <td>White</td>\n",
       "      <td>Female</td>\n",
       "      <td>0</td>\n",
       "      <td>0</td>\n",
       "      <td>70</td>\n",
       "      <td>United-States</td>\n",
       "      <td>&lt;=50K</td>\n",
       "    </tr>\n",
       "    <tr>\n",
       "      <th>30722</th>\n",
       "      <td>32</td>\n",
       "      <td>Private</td>\n",
       "      <td>Some-college</td>\n",
       "      <td>10</td>\n",
       "      <td>Separated</td>\n",
       "      <td>Machine-op-inspct</td>\n",
       "      <td>Unmarried</td>\n",
       "      <td>Black</td>\n",
       "      <td>Female</td>\n",
       "      <td>0</td>\n",
       "      <td>0</td>\n",
       "      <td>70</td>\n",
       "      <td>United-States</td>\n",
       "      <td>&lt;=50K</td>\n",
       "    </tr>\n",
       "    <tr>\n",
       "      <th>30723</th>\n",
       "      <td>39</td>\n",
       "      <td>Private</td>\n",
       "      <td>HS-grad</td>\n",
       "      <td>9</td>\n",
       "      <td>Divorced</td>\n",
       "      <td>Machine-op-inspct</td>\n",
       "      <td>Not-in-family</td>\n",
       "      <td>Black</td>\n",
       "      <td>Female</td>\n",
       "      <td>0</td>\n",
       "      <td>0</td>\n",
       "      <td>70</td>\n",
       "      <td>United-States</td>\n",
       "      <td>&lt;=50K</td>\n",
       "    </tr>\n",
       "    <tr>\n",
       "      <th>30724</th>\n",
       "      <td>20</td>\n",
       "      <td>Private</td>\n",
       "      <td>Some-college</td>\n",
       "      <td>10</td>\n",
       "      <td>Never-married</td>\n",
       "      <td>Machine-op-inspct</td>\n",
       "      <td>Not-in-family</td>\n",
       "      <td>White</td>\n",
       "      <td>Male</td>\n",
       "      <td>0</td>\n",
       "      <td>0</td>\n",
       "      <td>70</td>\n",
       "      <td>United-States</td>\n",
       "      <td>&lt;=50K</td>\n",
       "    </tr>\n",
       "  </tbody>\n",
       "</table>\n",
       "</div>"
      ],
      "text/plain": [
       "       age      workclass      education  education_num       marital_status  \\\n",
       "30720   50   Self-emp-inc   Some-college             10   Married-civ-spouse   \n",
       "30721   21        Private   Some-college             10        Never-married   \n",
       "30722   32        Private   Some-college             10            Separated   \n",
       "30723   39        Private        HS-grad              9             Divorced   \n",
       "30724   20        Private   Some-college             10        Never-married   \n",
       "\n",
       "               occupation    relationship    race      sex  capital_gain  \\\n",
       "30720   Machine-op-inspct         Husband   White     Male             0   \n",
       "30721   Machine-op-inspct       Own-child   White   Female             0   \n",
       "30722   Machine-op-inspct       Unmarried   Black   Female             0   \n",
       "30723   Machine-op-inspct   Not-in-family   Black   Female             0   \n",
       "30724   Machine-op-inspct   Not-in-family   White     Male             0   \n",
       "\n",
       "       capital_loss  hours_per_week  native_country income_bracket  \n",
       "30720             0              70         Germany          <=50K  \n",
       "30721             0              70   United-States          <=50K  \n",
       "30722             0              70   United-States          <=50K  \n",
       "30723             0              70   United-States          <=50K  \n",
       "30724             0              70   United-States          <=50K  "
      ]
     },
     "execution_count": 997,
     "metadata": {},
     "output_type": "execute_result"
    }
   ],
   "source": [
    "# Show the dataset tail\n",
    "df.tail()"
   ]
  },
  {
   "cell_type": "markdown",
   "metadata": {},
   "source": [
    "### 3. Exploratory Data Analysis (EDA)\n",
    "Since there is no ID / unique identifier for every row in the data, therefore duplicate checks won't be performed."
   ]
  },
  {
   "cell_type": "code",
   "execution_count": 998,
   "metadata": {},
   "outputs": [
    {
     "data": {
      "text/html": [
       "<div>\n",
       "<style scoped>\n",
       "    .dataframe tbody tr th:only-of-type {\n",
       "        vertical-align: middle;\n",
       "    }\n",
       "\n",
       "    .dataframe tbody tr th {\n",
       "        vertical-align: top;\n",
       "    }\n",
       "\n",
       "    .dataframe thead th {\n",
       "        text-align: right;\n",
       "    }\n",
       "</style>\n",
       "<table border=\"1\" class=\"dataframe\">\n",
       "  <thead>\n",
       "    <tr style=\"text-align: right;\">\n",
       "      <th></th>\n",
       "      <th>age</th>\n",
       "      <th>education_num</th>\n",
       "      <th>capital_gain</th>\n",
       "      <th>capital_loss</th>\n",
       "      <th>hours_per_week</th>\n",
       "    </tr>\n",
       "  </thead>\n",
       "  <tbody>\n",
       "    <tr>\n",
       "      <th>count</th>\n",
       "      <td>30725.000000</td>\n",
       "      <td>30725.000000</td>\n",
       "      <td>30725.000000</td>\n",
       "      <td>30725.000000</td>\n",
       "      <td>30725.000000</td>\n",
       "    </tr>\n",
       "    <tr>\n",
       "      <th>mean</th>\n",
       "      <td>38.439512</td>\n",
       "      <td>10.129699</td>\n",
       "      <td>1105.785094</td>\n",
       "      <td>88.889959</td>\n",
       "      <td>40.946461</td>\n",
       "    </tr>\n",
       "    <tr>\n",
       "      <th>std</th>\n",
       "      <td>13.119665</td>\n",
       "      <td>2.562702</td>\n",
       "      <td>7497.027762</td>\n",
       "      <td>405.613208</td>\n",
       "      <td>11.987385</td>\n",
       "    </tr>\n",
       "    <tr>\n",
       "      <th>min</th>\n",
       "      <td>17.000000</td>\n",
       "      <td>1.000000</td>\n",
       "      <td>0.000000</td>\n",
       "      <td>0.000000</td>\n",
       "      <td>1.000000</td>\n",
       "    </tr>\n",
       "    <tr>\n",
       "      <th>25%</th>\n",
       "      <td>28.000000</td>\n",
       "      <td>9.000000</td>\n",
       "      <td>0.000000</td>\n",
       "      <td>0.000000</td>\n",
       "      <td>40.000000</td>\n",
       "    </tr>\n",
       "    <tr>\n",
       "      <th>50%</th>\n",
       "      <td>37.000000</td>\n",
       "      <td>10.000000</td>\n",
       "      <td>0.000000</td>\n",
       "      <td>0.000000</td>\n",
       "      <td>40.000000</td>\n",
       "    </tr>\n",
       "    <tr>\n",
       "      <th>75%</th>\n",
       "      <td>47.000000</td>\n",
       "      <td>13.000000</td>\n",
       "      <td>0.000000</td>\n",
       "      <td>0.000000</td>\n",
       "      <td>45.000000</td>\n",
       "    </tr>\n",
       "    <tr>\n",
       "      <th>max</th>\n",
       "      <td>90.000000</td>\n",
       "      <td>16.000000</td>\n",
       "      <td>99999.000000</td>\n",
       "      <td>4356.000000</td>\n",
       "      <td>99.000000</td>\n",
       "    </tr>\n",
       "  </tbody>\n",
       "</table>\n",
       "</div>"
      ],
      "text/plain": [
       "                age  education_num  capital_gain  capital_loss  hours_per_week\n",
       "count  30725.000000   30725.000000  30725.000000  30725.000000    30725.000000\n",
       "mean      38.439512      10.129699   1105.785094     88.889959       40.946461\n",
       "std       13.119665       2.562702   7497.027762    405.613208       11.987385\n",
       "min       17.000000       1.000000      0.000000      0.000000        1.000000\n",
       "25%       28.000000       9.000000      0.000000      0.000000       40.000000\n",
       "50%       37.000000      10.000000      0.000000      0.000000       40.000000\n",
       "75%       47.000000      13.000000      0.000000      0.000000       45.000000\n",
       "max       90.000000      16.000000  99999.000000   4356.000000       99.000000"
      ]
     },
     "execution_count": 998,
     "metadata": {},
     "output_type": "execute_result"
    }
   ],
   "source": [
    "# Check numerical data distribution using central tendencies and skewness value\n",
    "df.describe()"
   ]
  },
  {
   "cell_type": "code",
   "execution_count": 999,
   "metadata": {},
   "outputs": [
    {
     "data": {
      "text/plain": [
       "age                0.531668\n",
       "education_num     -0.310258\n",
       "capital_gain      11.787237\n",
       "capital_loss       4.514917\n",
       "hours_per_week     0.330749\n",
       "dtype: float64"
      ]
     },
     "execution_count": 999,
     "metadata": {},
     "output_type": "execute_result"
    }
   ],
   "source": [
    "df.skew()"
   ]
  },
  {
   "cell_type": "markdown",
   "metadata": {},
   "source": [
    "Statement :\n",
    "<br>\n",
    "Columns named age, capital_gain, and capital_loss are considered as skewed data distributions. Which mean the data distribution is concentrated to the left side of the distribution / close to minimum value from the corresponding data range.\n",
    "<br>\n",
    "While the rest of columns is considered as normal distribution which mean the data distribution is concentrated at the middle side of the distribution / close to every central centendies (mean, median, and mode). "
   ]
  },
  {
   "cell_type": "code",
   "execution_count": 1000,
   "metadata": {},
   "outputs": [
    {
     "data": {
      "text/plain": [
       "Text(0.5, 1.0, ' capital_loss distribution')"
      ]
     },
     "execution_count": 1000,
     "metadata": {},
     "output_type": "execute_result"
    },
    {
     "data": {
      "image/png": "[encoded data removed]",
      "text/plain": [
       "<Figure size 864x432 with 2 Axes>"
      ]
     },
     "metadata": {
      "needs_background": "light"
     },
     "output_type": "display_data"
    }
   ],
   "source": [
    "# Check column distribution with extreme skewness value ( capital_loss and capital_gain )\n",
    "\n",
    "plt.figure(figsize = (12,6))\n",
    "\n",
    "# capital_gain plot\n",
    "plt.subplot(1, 2, 1)\n",
    "plt.hist(df['capital_gain'], bins = 50)\n",
    "plt.title(' capital_gain distribution')\n",
    "\n",
    "# capital_loss plot\n",
    "plt.subplot(1, 2, 2)\n",
    "plt.hist(df['capital_loss'], bins = 50)\n",
    "plt.title(' capital_loss distribution')"
   ]
  },
  {
   "cell_type": "markdown",
   "metadata": {},
   "source": [
    "Statement :\n",
    "<br>\n",
    "capital_gain and capital_loss distributions showing abnormal distribution where their Q3 is 0, yet the maximum value is 99999."
   ]
  },
  {
   "cell_type": "code",
   "execution_count": 1001,
   "metadata": {},
   "outputs": [
    {
     "name": "stdout",
     "output_type": "stream",
     "text": [
      "<class 'pandas.core.frame.DataFrame'>\n",
      "RangeIndex: 30725 entries, 0 to 30724\n",
      "Data columns (total 14 columns):\n",
      " #   Column          Non-Null Count  Dtype \n",
      "---  ------          --------------  ----- \n",
      " 0   age             30725 non-null  int64 \n",
      " 1   workclass       30725 non-null  object\n",
      " 2   education       30725 non-null  object\n",
      " 3   education_num   30725 non-null  int64 \n",
      " 4   marital_status  30725 non-null  object\n",
      " 5   occupation      30725 non-null  object\n",
      " 6   relationship    30725 non-null  object\n",
      " 7   race            30725 non-null  object\n",
      " 8   sex             30725 non-null  object\n",
      " 9   capital_gain    30725 non-null  int64 \n",
      " 10  capital_loss    30725 non-null  int64 \n",
      " 11  hours_per_week  30725 non-null  int64 \n",
      " 12  native_country  30725 non-null  object\n",
      " 13  income_bracket  30725 non-null  object\n",
      "dtypes: int64(5), object(9)\n",
      "memory usage: 3.3+ MB\n"
     ]
    }
   ],
   "source": [
    "# Check null / none data and format for each column\n",
    "df.info()"
   ]
  },
  {
   "cell_type": "markdown",
   "metadata": {},
   "source": [
    "Statement :\n",
    "<br>\n",
    "No null data found and each column is formatted in the correct type."
   ]
  },
  {
   "cell_type": "code",
   "execution_count": 1002,
   "metadata": {},
   "outputs": [
    {
     "name": "stdout",
     "output_type": "stream",
     "text": [
      "Numerical column list : ['age', 'education_num', 'capital_gain', 'capital_loss', 'hours_per_week']\n",
      "Categorical column list : ['workclass', 'education', 'marital_status', 'occupation', 'relationship', 'race', 'sex', 'native_country', 'income_bracket']\n"
     ]
    }
   ],
   "source": [
    "# Separate the categorical and numerical data\n",
    "num_raw = df.select_dtypes(include=np.number).columns.tolist()\n",
    "cat_raw = df.select_dtypes(include=['object']).columns.tolist()\n",
    "\n",
    "# Print the list of column\n",
    "print('Numerical column list :', num_raw)\n",
    "print('Categorical column list :', cat_raw)"
   ]
  },
  {
   "cell_type": "code",
   "execution_count": 1003,
   "metadata": {},
   "outputs": [
    {
     "data": {
      "text/plain": [
       "workclass          8\n",
       "education         16\n",
       "marital_status     7\n",
       "occupation        15\n",
       "relationship       6\n",
       "race               5\n",
       "sex                2\n",
       "native_country    42\n",
       "income_bracket     2\n",
       "dtype: int64"
      ]
     },
     "execution_count": 1003,
     "metadata": {},
     "output_type": "execute_result"
    }
   ],
   "source": [
    "# Check the categorical cardinality\n",
    "df[cat_raw].nunique()"
   ]
  },
  {
   "cell_type": "markdown",
   "metadata": {},
   "source": [
    "Statement :\n",
    "<br>\n",
    "education, occupation, and native_country have high cardinality compared to other columns. Therefore, cardinality compression is needed for the aforementioned columns."
   ]
  },
  {
   "cell_type": "code",
   "execution_count": 1004,
   "metadata": {},
   "outputs": [
    {
     "data": {
      "text/plain": [
       "array([' Never-worked', ' Private', ' Self-emp-not-inc', ' Self-emp-inc',\n",
       "       ' State-gov', ' Federal-gov', ' Local-gov', ' Without-pay'],\n",
       "      dtype=object)"
      ]
     },
     "execution_count": 1004,
     "metadata": {},
     "output_type": "execute_result"
    }
   ],
   "source": [
    "# Check every column contents\n",
    "df.workclass.unique() # Workclass column"
   ]
  },
  {
   "cell_type": "code",
   "execution_count": 1005,
   "metadata": {},
   "outputs": [
    {
     "data": {
      "text/plain": [
       "array([' Some-college', ' 12th', ' HS-grad', ' Bachelors', ' 9th',\n",
       "       ' 10th', ' 11th', ' 5th-6th', ' 7th-8th', ' Masters', ' Assoc-voc',\n",
       "       ' Assoc-acdm', ' Prof-school', ' Doctorate', ' 1st-4th',\n",
       "       ' Preschool'], dtype=object)"
      ]
     },
     "execution_count": 1005,
     "metadata": {},
     "output_type": "execute_result"
    }
   ],
   "source": [
    "df.education.unique() # Education column"
   ]
  },
  {
   "cell_type": "code",
   "execution_count": 1006,
   "metadata": {},
   "outputs": [
    {
     "data": {
      "text/plain": [
       "array([' Never-married', ' Married-civ-spouse', ' Divorced', ' Separated',\n",
       "       ' Married-spouse-absent', ' Widowed', ' Married-AF-spouse'],\n",
       "      dtype=object)"
      ]
     },
     "execution_count": 1006,
     "metadata": {},
     "output_type": "execute_result"
    }
   ],
   "source": [
    "df.marital_status.unique() # Marital_status column"
   ]
  },
  {
   "cell_type": "code",
   "execution_count": 1007,
   "metadata": {},
   "outputs": [
    {
     "data": {
      "text/plain": [
       "array([' ?', ' Sales', ' Adm-clerical', ' Armed-Forces', ' Craft-repair',\n",
       "       ' Tech-support', ' Other-service', ' Prof-specialty',\n",
       "       ' Exec-managerial', ' Farming-fishing', ' Priv-house-serv',\n",
       "       ' Protective-serv', ' Transport-moving', ' Handlers-cleaners',\n",
       "       ' Machine-op-inspct'], dtype=object)"
      ]
     },
     "execution_count": 1007,
     "metadata": {},
     "output_type": "execute_result"
    }
   ],
   "source": [
    "df.occupation.unique() # Occupation column"
   ]
  },
  {
   "cell_type": "code",
   "execution_count": 1008,
   "metadata": {},
   "outputs": [
    {
     "data": {
      "text/plain": [
       "array([' Own-child', ' Wife', ' Husband', ' Unmarried', ' Not-in-family',\n",
       "       ' Other-relative'], dtype=object)"
      ]
     },
     "execution_count": 1008,
     "metadata": {},
     "output_type": "execute_result"
    }
   ],
   "source": [
    "df.relationship.unique() # Relationship column"
   ]
  },
  {
   "cell_type": "code",
   "execution_count": 1009,
   "metadata": {},
   "outputs": [
    {
     "data": {
      "text/plain": [
       "array([' White', ' Asian-Pac-Islander', ' Black', ' Other',\n",
       "       ' Amer-Indian-Eskimo'], dtype=object)"
      ]
     },
     "execution_count": 1009,
     "metadata": {},
     "output_type": "execute_result"
    }
   ],
   "source": [
    "df.race.unique() # Race column"
   ]
  },
  {
   "cell_type": "code",
   "execution_count": 1010,
   "metadata": {},
   "outputs": [
    {
     "data": {
      "text/plain": [
       "array([' Male', ' Female'], dtype=object)"
      ]
     },
     "execution_count": 1010,
     "metadata": {},
     "output_type": "execute_result"
    }
   ],
   "source": [
    "df.sex.unique() # Sex column"
   ]
  },
  {
   "cell_type": "code",
   "execution_count": 1011,
   "metadata": {},
   "outputs": [
    {
     "data": {
      "text/plain": [
       "array([' United-States', ' ?', ' Dominican-Republic', ' Canada', ' South',\n",
       "       ' Cuba', ' Mexico', ' Vietnam', ' Philippines', ' India', ' Italy',\n",
       "       ' Jamaica', ' El-Salvador', ' Trinadad&Tobago', ' Guatemala',\n",
       "       ' England', ' Germany', ' Puerto-Rico', ' Peru', ' Yugoslavia',\n",
       "       ' Poland', ' Iran', ' Taiwan', ' Hong', ' Japan', ' Thailand',\n",
       "       ' Haiti', ' China', ' Ecuador', ' Columbia', ' Greece', ' France',\n",
       "       ' Hungary', ' Laos', ' Outlying-US(Guam-USVI-etc)', ' Portugal',\n",
       "       ' Nicaragua', ' Honduras', ' Scotland', ' Ireland', ' Cambodia',\n",
       "       ' Holand-Netherlands'], dtype=object)"
      ]
     },
     "execution_count": 1011,
     "metadata": {},
     "output_type": "execute_result"
    }
   ],
   "source": [
    "df.native_country.unique() # Native_country column"
   ]
  },
  {
   "cell_type": "code",
   "execution_count": 1012,
   "metadata": {},
   "outputs": [
    {
     "data": {
      "text/plain": [
       "array([' <=50K', ' >50K'], dtype=object)"
      ]
     },
     "execution_count": 1012,
     "metadata": {},
     "output_type": "execute_result"
    }
   ],
   "source": [
    "df.income_bracket.unique() # Income_bracket column"
   ]
  },
  {
   "cell_type": "markdown",
   "metadata": {},
   "source": [
    "Statement :\n",
    "<br>\n",
    "column native_country and occupation contaminated with ' ?' value that is considered as null value of data. Therefore, extermination required."
   ]
  },
  {
   "cell_type": "code",
   "execution_count": 1013,
   "metadata": {},
   "outputs": [
    {
     "data": {
      "text/plain": [
       " United-States                 27511\n",
       " Mexico                          610\n",
       " ?                               556\n",
       " Philippines                     188\n",
       " Germany                         128\n",
       " Puerto-Rico                     109\n",
       " Canada                          107\n",
       " India                           100\n",
       " El-Salvador                     100\n",
       " Cuba                             92\n",
       " England                          86\n",
       " Jamaica                          80\n",
       " South                            71\n",
       " Italy                            68\n",
       " China                            68\n",
       " Dominican-Republic               67\n",
       " Vietnam                          64\n",
       " Guatemala                        63\n",
       " Japan                            59\n",
       " Columbia                         56\n",
       " Poland                           56\n",
       " Haiti                            42\n",
       " Iran                             42\n",
       " Taiwan                           42\n",
       " Portugal                         34\n",
       " Nicaragua                        33\n",
       " Peru                             30\n",
       " Greece                           29\n",
       " Ecuador                          27\n",
       " France                           27\n",
       " Ireland                          24\n",
       " Hong                             19\n",
       " Trinadad&Tobago                  18\n",
       " Cambodia                         18\n",
       " Thailand                         17\n",
       " Laos                             17\n",
       " Yugoslavia                       16\n",
       " Outlying-US(Guam-USVI-etc)       14\n",
       " Hungary                          13\n",
       " Honduras                         12\n",
       " Scotland                         11\n",
       " Holand-Netherlands                1\n",
       "Name: native_country, dtype: int64"
      ]
     },
     "execution_count": 1013,
     "metadata": {},
     "output_type": "execute_result"
    }
   ],
   "source": [
    "# Check the data distribution in high cardinality columns\n",
    "\n",
    "# Check the distribution in native_country column\n",
    "df['native_country'].value_counts(sort = True, ascending = False)"
   ]
  },
  {
   "cell_type": "markdown",
   "metadata": {},
   "source": [
    "Statement :\n",
    "<br>\n",
    "Since the United-States dominating the native_country column ( 27511 out of 30725 data ), therefore the native_country column will be sepatarated to:\n",
    "<br>\n",
    "1. US\n",
    "2. Non US"
   ]
  },
  {
   "cell_type": "code",
   "execution_count": 1014,
   "metadata": {},
   "outputs": [
    {
     "data": {
      "text/plain": [
       " HS-grad         9969\n",
       " Some-college    6777\n",
       " Bachelors       5182\n",
       " Masters         1675\n",
       " Assoc-voc       1321\n",
       " 11th            1057\n",
       " Assoc-acdm      1020\n",
       " 10th             833\n",
       " 7th-8th          574\n",
       " Prof-school      558\n",
       " 9th              463\n",
       " Doctorate        398\n",
       " 12th             393\n",
       " 5th-6th          303\n",
       " 1st-4th          156\n",
       " Preschool         46\n",
       "Name: education, dtype: int64"
      ]
     },
     "execution_count": 1014,
     "metadata": {},
     "output_type": "execute_result"
    }
   ],
   "source": [
    "# Check the distribution in education column\n",
    "df['education'].value_counts(sort = True, ascending = False)"
   ]
  },
  {
   "cell_type": "markdown",
   "metadata": {},
   "source": [
    "Statement :\n",
    "<br>\n",
    "The data input is very inconsistent, where the data about year of education before college was divided into several range such as:\n",
    "<br>\n",
    "1st-4th, 7th-8th, ect.\n",
    "<br>\n",
    "Therefore, the data will be transformed into last education level that had been passed.\n",
    "<br>\n",
    "1. Preschool (Preschool, 1st-4th, 5th-6th)\n",
    "2. Elementary (7th-8th, 9th)\n",
    "3. JHS (10th, 11th, 12th)*\n",
    "4. SHS (HS-grad)*\n",
    "5. College (Some-college, Assoc-voc, Assoc-acdm)\n",
    "6. Bachelors\n",
    "7. Post_Grad (Masters, Prof-school)\n",
    "8. Doctorate\n",
    "<br>\n",
    "*note : JHS = Junior High School, SNS = Senior High School"
   ]
  },
  {
   "cell_type": "code",
   "execution_count": 1015,
   "metadata": {},
   "outputs": [
    {
     "data": {
      "text/plain": [
       " Prof-specialty       4140\n",
       " Craft-repair         4099\n",
       " Exec-managerial      4066\n",
       " Adm-clerical         3770\n",
       " Sales                3650\n",
       " Other-service        3295\n",
       " Machine-op-inspct    2002\n",
       " Transport-moving     1597\n",
       " Handlers-cleaners    1370\n",
       " Farming-fishing       994\n",
       " Tech-support          928\n",
       " Protective-serv       649\n",
       " Priv-house-serv       149\n",
       " Armed-Forces            9\n",
       " ?                       7\n",
       "Name: occupation, dtype: int64"
      ]
     },
     "execution_count": 1015,
     "metadata": {},
     "output_type": "execute_result"
    }
   ],
   "source": [
    "# Check the distribution in occupation column\n",
    "df['occupation'].value_counts(sort = True, ascending = False)"
   ]
  },
  {
   "cell_type": "markdown",
   "metadata": {},
   "source": [
    "Statement :\n",
    "<br>\n",
    "Job with the same job description will be merged.\n",
    "<br>\n",
    "1. Professional (prof-speciality)\n",
    "2. Office_worker (Exec-managerial, Adm-clerical, Sales)\n",
    "3. Operator (Machine-op-inspct, Transport-moving)\n",
    "4. Security (Protective-serv, Armed-Forces)\n",
    "5. Technician (Craft-repair, Tech-support)\n",
    "6. Household_assistant (Handlers-cleaners, Priv-house-serv)\n",
    "7. Farming-fishing\n",
    "8. Other-service"
   ]
  },
  {
   "cell_type": "markdown",
   "metadata": {},
   "source": [
    "### 4. Data Preprocessing - Data Cleaning\n",
    "Since Logistic Regression and SVM is basically a linear basis function, therefore feature selection will based on the linear correlation between features and target."
   ]
  },
  {
   "cell_type": "code",
   "execution_count": 1016,
   "metadata": {},
   "outputs": [
    {
     "data": {
      "text/plain": [
       "(30162, 14)"
      ]
     },
     "execution_count": 1016,
     "metadata": {},
     "output_type": "execute_result"
    }
   ],
   "source": [
    "# Remove all rows that contain ' ?' in either native_country column and occupation or both.\n",
    "df = df[ ~(df['native_country'] == ' ?') & ~(df['occupation'] == ' ?') ]\n",
    "\n",
    "# Check the size of new dataframe\n",
    "df.shape"
   ]
  },
  {
   "cell_type": "code",
   "execution_count": 1017,
   "metadata": {},
   "outputs": [],
   "source": [
    "# Reduce cardinality in native_country column\n",
    "df['native_country'] = df['native_country'].replace(to_replace=r\"^(.(?<!United-States))*?$\", value='non US',regex=True)\n",
    "df['native_country'] = df['native_country'].replace(to_replace=r\"^(.(?<!non US))*?$\", value='US',regex=True)"
   ]
  },
  {
   "cell_type": "code",
   "execution_count": 1018,
   "metadata": {},
   "outputs": [],
   "source": [
    "# Reduce cardinality in education column\n",
    "df = df.replace({\n",
    "    'education':{\n",
    "        ' Preschool' : 'Preschool',\n",
    "        ' 1st-4th' : 'Preschool',\n",
    "        ' 5th-6th' : 'Preschool',\n",
    "        ' 7th-8th' : 'Elementary',\n",
    "        ' 9th' : 'Elementary',\n",
    "        ' 10th' : 'JHS',\n",
    "        ' 11th' : 'JHS',\n",
    "        ' 12th' : 'JHS',\n",
    "        ' HS-grad' : 'SHS',\n",
    "        ' Some-college' : 'College',\n",
    "        ' Assoc-voc' : 'College',\n",
    "        ' Assoc-acdm' : 'College',\n",
    "        ' Prof-school' : 'Post_Grad',\n",
    "        ' Masters' : 'Post_Grad',\n",
    "    }\n",
    "})"
   ]
  },
  {
   "cell_type": "code",
   "execution_count": 1019,
   "metadata": {},
   "outputs": [],
   "source": [
    "# Reduce cardinality in occupation column\n",
    "df = df.replace({\n",
    "    'occupation':{\n",
    "        ' Prof-specialty' : 'Professional',\n",
    "        ' Exec-managerial' : 'Office_worker',\n",
    "        ' Adm-clerical' : 'Office_worker',\n",
    "        ' Sales' : 'Office_worker',\n",
    "        ' Machine-op-inspct' : 'Operator',\n",
    "        ' Transport-moving' : 'Operator',\n",
    "        ' Protective-serv' : 'Security',\n",
    "        ' Armed-Forces' : 'Security',\n",
    "        ' Craft-repair' : 'Technician',\n",
    "        ' Tech-support' : 'Technician',\n",
    "        ' Handlers-cleaners' : 'Household_assistant',\n",
    "        ' Priv-house-serv' : 'Household_assistant'\n",
    "    }\n",
    "})"
   ]
  },
  {
   "cell_type": "code",
   "execution_count": 1020,
   "metadata": {},
   "outputs": [
    {
     "data": {
      "text/plain": [
       "workclass         7\n",
       "education         8\n",
       "marital_status    7\n",
       "occupation        8\n",
       "relationship      6\n",
       "race              5\n",
       "sex               2\n",
       "native_country    2\n",
       "income_bracket    2\n",
       "dtype: int64"
      ]
     },
     "execution_count": 1020,
     "metadata": {},
     "output_type": "execute_result"
    }
   ],
   "source": [
    "# Recheck categorical data cardinality\n",
    "df[cat_raw].nunique()"
   ]
  },
  {
   "cell_type": "markdown",
   "metadata": {},
   "source": [
    "Statement :\n",
    "<br>\n",
    "All categorical columns cardinality is already less than 10."
   ]
  },
  {
   "cell_type": "markdown",
   "metadata": {},
   "source": [
    "### 4. Data Preprocessing - Inference Model"
   ]
  },
  {
   "cell_type": "code",
   "execution_count": 1021,
   "metadata": {},
   "outputs": [],
   "source": [
    "# Get Data for Inference Model\n",
    "data_inf = df.sample(10, random_state = 1) # 10 rows will be used as inference model\n",
    "\n",
    "# Remove Inference-Set from Dataset\n",
    "data_train_test = df.drop(data_inf.index)"
   ]
  },
  {
   "cell_type": "code",
   "execution_count": 1022,
   "metadata": {},
   "outputs": [],
   "source": [
    "# Reset index for every data set in order to minimize the probability of error for the next code command\n",
    "data_train_test.reset_index(drop = True , inplace = True)\n",
    "data_inf.reset_index(drop = True , inplace = True)"
   ]
  },
  {
   "cell_type": "markdown",
   "metadata": {},
   "source": [
    "### 4. Data Preprocessing - Data Splitting"
   ]
  },
  {
   "cell_type": "code",
   "execution_count": 1023,
   "metadata": {},
   "outputs": [],
   "source": [
    "# Splitting the Features and Target\n",
    "X = data_train_test.drop(['income_bracket'], axis = 1) # Features\n",
    "y = pd.DataFrame(data_train_test['income_bracket']) # Target"
   ]
  },
  {
   "cell_type": "code",
   "execution_count": 1024,
   "metadata": {},
   "outputs": [],
   "source": [
    "# Splitting the features and target to train set and test set\n",
    "X_train, X_test, y_train, y_test = train_test_split(X, y, test_size = 0.2, random_state = 1) # 20% of the data will be the test set"
   ]
  },
  {
   "cell_type": "code",
   "execution_count": 1025,
   "metadata": {},
   "outputs": [
    {
     "name": "stdout",
     "output_type": "stream",
     "text": [
      "Base Dataset Skewness\n",
      "age                0.530228\n",
      "education_num     -0.305379\n",
      "capital_gain      11.902682\n",
      "capital_loss       4.526380\n",
      "hours_per_week     0.330869\n",
      "dtype: float64 \n",
      "\n",
      "Train Dataset Skewness\n",
      "age                0.534302\n",
      "education_num     -0.311754\n",
      "capital_gain      11.637829\n",
      "capital_loss       4.487798\n",
      "hours_per_week     0.341481\n",
      "dtype: float64\n"
     ]
    }
   ],
   "source": [
    "# Compare the data distribution and cardinality before and after splitting between base dataset and train dataset\n",
    "# Check the numerical columns distribution based on skewness value\n",
    "print('Base Dataset Skewness')\n",
    "print(df.skew(), '\\n' )\n",
    "print('Train Dataset Skewness')\n",
    "print(X_train.skew())"
   ]
  },
  {
   "cell_type": "markdown",
   "metadata": {},
   "source": [
    "Statement :\n",
    "<br>\n",
    "There is no extreme difference been found between base dataset and training dataset based on skewness value of data distribution. Therefore, we can conclude that the training set distribution is able to represent the base dataset."
   ]
  },
  {
   "cell_type": "code",
   "execution_count": 1026,
   "metadata": {},
   "outputs": [
    {
     "name": "stdout",
     "output_type": "stream",
     "text": [
      "Base Dataset Central Tendencies\n",
      "                age  education_num  capital_gain  capital_loss  hours_per_week\n",
      "count  30162.000000   30162.000000  30162.000000  30162.000000    30162.000000\n",
      "mean      38.437902      10.121312   1092.007858     88.372489       40.931238\n",
      "std       13.134665       2.549995   7406.346497    404.298370       11.979984\n",
      "min       17.000000       1.000000      0.000000      0.000000        1.000000\n",
      "25%       28.000000       9.000000      0.000000      0.000000       40.000000\n",
      "50%       37.000000      10.000000      0.000000      0.000000       40.000000\n",
      "75%       47.000000      13.000000      0.000000      0.000000       45.000000\n",
      "max       90.000000      16.000000  99999.000000   4356.000000       99.000000 \n",
      "\n",
      "Train Dataset Central Tendencies\n",
      "                age  education_num  capital_gain  capital_loss  hours_per_week\n",
      "count  24121.000000   24121.000000  24121.000000  24121.000000    24121.000000\n",
      "mean      38.439285      10.124953   1128.297998     89.455578       40.986195\n",
      "std       13.126719       2.554492   7576.727051    406.540949       11.981246\n",
      "min       17.000000       1.000000      0.000000      0.000000        1.000000\n",
      "25%       28.000000       9.000000      0.000000      0.000000       40.000000\n",
      "50%       37.000000      10.000000      0.000000      0.000000       40.000000\n",
      "75%       47.000000      13.000000      0.000000      0.000000       45.000000\n",
      "max       90.000000      16.000000  99999.000000   4356.000000       99.000000\n"
     ]
    }
   ],
   "source": [
    "# Check the numerical columns central tendencies\n",
    "print('Base Dataset Central Tendencies')\n",
    "print(df.describe(), '\\n')\n",
    "print('Train Dataset Central Tendencies')\n",
    "print(X_train.describe())"
   ]
  },
  {
   "cell_type": "markdown",
   "metadata": {},
   "source": [
    "Statement :\n",
    "<br>\n",
    "Same as skewness value, no extreme difference between base dataset with train dataset for every statistical calculation performed (minimum & maximum value, standard deviation, Q1, Q2 (median), Q3, and mean (average)).\n",
    "<br>\n",
    "Therefore, we can conclude that the training set distribution is able to represent the base numerical dataset."
   ]
  },
  {
   "cell_type": "code",
   "execution_count": 1027,
   "metadata": {},
   "outputs": [
    {
     "name": "stdout",
     "output_type": "stream",
     "text": [
      "Base Dataset Cardinalities\n",
      "workclass         7\n",
      "education         8\n",
      "marital_status    7\n",
      "occupation        8\n",
      "relationship      6\n",
      "race              5\n",
      "sex               2\n",
      "native_country    2\n",
      "income_bracket    2\n",
      "dtype: int64 \n",
      "\n",
      "Train Dataset Cardinalities\n",
      "workclass         7\n",
      "education         8\n",
      "marital_status    7\n",
      "occupation        8\n",
      "relationship      6\n",
      "race              5\n",
      "sex               2\n",
      "native_country    2\n",
      "dtype: int64 \n",
      "\n"
     ]
    }
   ],
   "source": [
    "# Compare the cardinality between base and train set\n",
    "print('Base Dataset Cardinalities')\n",
    "print(df[cat_raw].nunique(), '\\n')\n",
    "print('Train Dataset Cardinalities')\n",
    "cat_raw_X = np.delete(cat_raw, -1) # Make a columns list without target column\n",
    "print(X_train[cat_raw_X].nunique(), '\\n')"
   ]
  },
  {
   "cell_type": "markdown",
   "metadata": {},
   "source": [
    "Statement :\n",
    "<br>\n",
    "The cardinalities of base and train dataset show no differences.\n",
    "<br>\n",
    "Therefore, we can conclude that the training set distribution is able to represent the base categorical dataset."
   ]
  },
  {
   "cell_type": "markdown",
   "metadata": {},
   "source": [
    "### 4. Data Preprocessing - Outliers Handling"
   ]
  },
  {
   "cell_type": "code",
   "execution_count": 1028,
   "metadata": {},
   "outputs": [],
   "source": [
    "# Make a function to calculate the limitation of outliers and show the most extreme results\n",
    "\n",
    "## Normal Distribution Limitation\n",
    "def Nor_LLUL(df, variable):\n",
    "    LL = df[variable].mean() - 3 * df[variable].std() # Lower Limit\n",
    "    UL = df[variable].mean() + 3 * df[variable].std() # Upper Limit\n",
    "    return LL, UL\n",
    "\n",
    "## Skewed Distribution Limitation\n",
    "def Skew_LLUL(df, variable, multiplier = 1.5):\n",
    "    Q1 = df[variable].quantile(0.25)\n",
    "    Q3 = df[variable].quantile(0.75)\n",
    "    IQR = Q3 - Q1\n",
    "    LL = Q1 - multiplier * IQR\n",
    "    UL = Q3 + multiplier * IQR\n",
    "    return LL, UL\n",
    "\n",
    "# Show the most extreme results for outliers\n",
    "def Show_LLUL(df, variable, LL, UL):\n",
    "    out_df = df[(df[variable] > UL) | (df[variable] < LL)]\n",
    "    out_df.sort_values(variable, ascending = False, inplace = True)\n",
    "    out_df.reset_index(inplace = True)\n",
    "    print(round(out_df.shape[0] / df.shape[0] * 100, 2), '% is considered as outliers')\n",
    "    return out_df.iloc[np.r_[0:6, -6:-1]]"
   ]
  },
  {
   "cell_type": "code",
   "execution_count": 1029,
   "metadata": {},
   "outputs": [],
   "source": [
    "# Check outliers for every numerical column in train set\n",
    "# List of columns with normal distribution based on skewness value: education_num, hours_per_week\n",
    "# List of columns with skewed distribution based on skewness value: age, capital_gain, capital_loss\n",
    "\n",
    "# Calculate the limitation for age column\n",
    "age_LL, age_UL = Skew_LLUL(X_train, 'age')\n",
    "\n",
    "# Calculate the limitation for education_num column\n",
    "education_num_LL, education_num_UL = Nor_LLUL(X_train, 'education_num')\n",
    "\n",
    "# Calculate the limitation for capital_gain column\n",
    "capital_gain_LL, capital_gain_UL = Skew_LLUL(X_train, 'capital_gain')\n",
    "\n",
    "# Calculate the limitation for capital_loss column\n",
    "capital_loss_LL, capital_loss_UL = Skew_LLUL(X_train, 'capital_loss')\n",
    "\n",
    "# Calculate the limitation for hours_per_week column\n",
    "hours_per_week_LL, hours_per_week_UL = Nor_LLUL(X_train, 'hours_per_week')"
   ]
  },
  {
   "cell_type": "code",
   "execution_count": 1030,
   "metadata": {},
   "outputs": [
    {
     "name": "stdout",
     "output_type": "stream",
     "text": [
      "0.58 % is considered as outliers\n"
     ]
    },
    {
     "data": {
      "text/html": [
       "<div>\n",
       "<style scoped>\n",
       "    .dataframe tbody tr th:only-of-type {\n",
       "        vertical-align: middle;\n",
       "    }\n",
       "\n",
       "    .dataframe tbody tr th {\n",
       "        vertical-align: top;\n",
       "    }\n",
       "\n",
       "    .dataframe thead th {\n",
       "        text-align: right;\n",
       "    }\n",
       "</style>\n",
       "<table border=\"1\" class=\"dataframe\">\n",
       "  <thead>\n",
       "    <tr style=\"text-align: right;\">\n",
       "      <th></th>\n",
       "      <th>index</th>\n",
       "      <th>age</th>\n",
       "      <th>workclass</th>\n",
       "      <th>education</th>\n",
       "      <th>education_num</th>\n",
       "      <th>marital_status</th>\n",
       "      <th>occupation</th>\n",
       "      <th>relationship</th>\n",
       "      <th>race</th>\n",
       "      <th>sex</th>\n",
       "      <th>capital_gain</th>\n",
       "      <th>capital_loss</th>\n",
       "      <th>hours_per_week</th>\n",
       "      <th>native_country</th>\n",
       "    </tr>\n",
       "  </thead>\n",
       "  <tbody>\n",
       "    <tr>\n",
       "      <th>0</th>\n",
       "      <td>20375</td>\n",
       "      <td>90</td>\n",
       "      <td>Private</td>\n",
       "      <td>JHS</td>\n",
       "      <td>7</td>\n",
       "      <td>Never-married</td>\n",
       "      <td>Household_assistant</td>\n",
       "      <td>Own-child</td>\n",
       "      <td>White</td>\n",
       "      <td>Male</td>\n",
       "      <td>0</td>\n",
       "      <td>0</td>\n",
       "      <td>40</td>\n",
       "      <td>US</td>\n",
       "    </tr>\n",
       "    <tr>\n",
       "      <th>1</th>\n",
       "      <td>23744</td>\n",
       "      <td>90</td>\n",
       "      <td>Private</td>\n",
       "      <td>Bachelors</td>\n",
       "      <td>13</td>\n",
       "      <td>Married-civ-spouse</td>\n",
       "      <td>Office_worker</td>\n",
       "      <td>Husband</td>\n",
       "      <td>White</td>\n",
       "      <td>Male</td>\n",
       "      <td>0</td>\n",
       "      <td>0</td>\n",
       "      <td>45</td>\n",
       "      <td>US</td>\n",
       "    </tr>\n",
       "    <tr>\n",
       "      <th>2</th>\n",
       "      <td>14992</td>\n",
       "      <td>90</td>\n",
       "      <td>Private</td>\n",
       "      <td>SHS</td>\n",
       "      <td>9</td>\n",
       "      <td>Never-married</td>\n",
       "      <td>Other-service</td>\n",
       "      <td>Not-in-family</td>\n",
       "      <td>White</td>\n",
       "      <td>Female</td>\n",
       "      <td>0</td>\n",
       "      <td>0</td>\n",
       "      <td>40</td>\n",
       "      <td>US</td>\n",
       "    </tr>\n",
       "    <tr>\n",
       "      <th>3</th>\n",
       "      <td>3236</td>\n",
       "      <td>90</td>\n",
       "      <td>Local-gov</td>\n",
       "      <td>College</td>\n",
       "      <td>12</td>\n",
       "      <td>Married-civ-spouse</td>\n",
       "      <td>Office_worker</td>\n",
       "      <td>Husband</td>\n",
       "      <td>Asian-Pac-Islander</td>\n",
       "      <td>Male</td>\n",
       "      <td>0</td>\n",
       "      <td>0</td>\n",
       "      <td>20</td>\n",
       "      <td>non US</td>\n",
       "    </tr>\n",
       "    <tr>\n",
       "      <th>4</th>\n",
       "      <td>17134</td>\n",
       "      <td>90</td>\n",
       "      <td>Private</td>\n",
       "      <td>JHS</td>\n",
       "      <td>6</td>\n",
       "      <td>Married-civ-spouse</td>\n",
       "      <td>Office_worker</td>\n",
       "      <td>Husband</td>\n",
       "      <td>White</td>\n",
       "      <td>Male</td>\n",
       "      <td>0</td>\n",
       "      <td>0</td>\n",
       "      <td>40</td>\n",
       "      <td>US</td>\n",
       "    </tr>\n",
       "    <tr>\n",
       "      <th>5</th>\n",
       "      <td>16800</td>\n",
       "      <td>90</td>\n",
       "      <td>Private</td>\n",
       "      <td>Bachelors</td>\n",
       "      <td>13</td>\n",
       "      <td>Never-married</td>\n",
       "      <td>Professional</td>\n",
       "      <td>Not-in-family</td>\n",
       "      <td>Asian-Pac-Islander</td>\n",
       "      <td>Male</td>\n",
       "      <td>0</td>\n",
       "      <td>0</td>\n",
       "      <td>40</td>\n",
       "      <td>US</td>\n",
       "    </tr>\n",
       "    <tr>\n",
       "      <th>133</th>\n",
       "      <td>5122</td>\n",
       "      <td>76</td>\n",
       "      <td>Local-gov</td>\n",
       "      <td>College</td>\n",
       "      <td>10</td>\n",
       "      <td>Widowed</td>\n",
       "      <td>Office_worker</td>\n",
       "      <td>Not-in-family</td>\n",
       "      <td>White</td>\n",
       "      <td>Female</td>\n",
       "      <td>0</td>\n",
       "      <td>0</td>\n",
       "      <td>30</td>\n",
       "      <td>US</td>\n",
       "    </tr>\n",
       "    <tr>\n",
       "      <th>134</th>\n",
       "      <td>3366</td>\n",
       "      <td>76</td>\n",
       "      <td>Private</td>\n",
       "      <td>College</td>\n",
       "      <td>10</td>\n",
       "      <td>Divorced</td>\n",
       "      <td>Office_worker</td>\n",
       "      <td>Not-in-family</td>\n",
       "      <td>White</td>\n",
       "      <td>Female</td>\n",
       "      <td>0</td>\n",
       "      <td>0</td>\n",
       "      <td>20</td>\n",
       "      <td>US</td>\n",
       "    </tr>\n",
       "    <tr>\n",
       "      <th>135</th>\n",
       "      <td>959</td>\n",
       "      <td>76</td>\n",
       "      <td>Private</td>\n",
       "      <td>SHS</td>\n",
       "      <td>9</td>\n",
       "      <td>Widowed</td>\n",
       "      <td>Other-service</td>\n",
       "      <td>Unmarried</td>\n",
       "      <td>White</td>\n",
       "      <td>Female</td>\n",
       "      <td>0</td>\n",
       "      <td>0</td>\n",
       "      <td>33</td>\n",
       "      <td>US</td>\n",
       "    </tr>\n",
       "    <tr>\n",
       "      <th>136</th>\n",
       "      <td>4071</td>\n",
       "      <td>76</td>\n",
       "      <td>Private</td>\n",
       "      <td>SHS</td>\n",
       "      <td>9</td>\n",
       "      <td>Married-civ-spouse</td>\n",
       "      <td>Office_worker</td>\n",
       "      <td>Husband</td>\n",
       "      <td>White</td>\n",
       "      <td>Male</td>\n",
       "      <td>1424</td>\n",
       "      <td>0</td>\n",
       "      <td>24</td>\n",
       "      <td>US</td>\n",
       "    </tr>\n",
       "    <tr>\n",
       "      <th>137</th>\n",
       "      <td>20048</td>\n",
       "      <td>76</td>\n",
       "      <td>Self-emp-not-inc</td>\n",
       "      <td>College</td>\n",
       "      <td>10</td>\n",
       "      <td>Widowed</td>\n",
       "      <td>Operator</td>\n",
       "      <td>Not-in-family</td>\n",
       "      <td>White</td>\n",
       "      <td>Male</td>\n",
       "      <td>0</td>\n",
       "      <td>0</td>\n",
       "      <td>40</td>\n",
       "      <td>US</td>\n",
       "    </tr>\n",
       "  </tbody>\n",
       "</table>\n",
       "</div>"
      ],
      "text/plain": [
       "     index  age          workclass   education  education_num  \\\n",
       "0    20375   90            Private         JHS              7   \n",
       "1    23744   90            Private   Bachelors             13   \n",
       "2    14992   90            Private         SHS              9   \n",
       "3     3236   90          Local-gov     College             12   \n",
       "4    17134   90            Private         JHS              6   \n",
       "5    16800   90            Private   Bachelors             13   \n",
       "133   5122   76          Local-gov     College             10   \n",
       "134   3366   76            Private     College             10   \n",
       "135    959   76            Private         SHS              9   \n",
       "136   4071   76            Private         SHS              9   \n",
       "137  20048   76   Self-emp-not-inc     College             10   \n",
       "\n",
       "          marital_status           occupation    relationship  \\\n",
       "0          Never-married  Household_assistant       Own-child   \n",
       "1     Married-civ-spouse        Office_worker         Husband   \n",
       "2          Never-married        Other-service   Not-in-family   \n",
       "3     Married-civ-spouse        Office_worker         Husband   \n",
       "4     Married-civ-spouse        Office_worker         Husband   \n",
       "5          Never-married         Professional   Not-in-family   \n",
       "133              Widowed        Office_worker   Not-in-family   \n",
       "134             Divorced        Office_worker   Not-in-family   \n",
       "135              Widowed        Other-service       Unmarried   \n",
       "136   Married-civ-spouse        Office_worker         Husband   \n",
       "137              Widowed             Operator   Not-in-family   \n",
       "\n",
       "                    race      sex  capital_gain  capital_loss  hours_per_week  \\\n",
       "0                  White     Male             0             0              40   \n",
       "1                  White     Male             0             0              45   \n",
       "2                  White   Female             0             0              40   \n",
       "3     Asian-Pac-Islander     Male             0             0              20   \n",
       "4                  White     Male             0             0              40   \n",
       "5     Asian-Pac-Islander     Male             0             0              40   \n",
       "133                White   Female             0             0              30   \n",
       "134                White   Female             0             0              20   \n",
       "135                White   Female             0             0              33   \n",
       "136                White     Male          1424             0              24   \n",
       "137                White     Male             0             0              40   \n",
       "\n",
       "    native_country  \n",
       "0               US  \n",
       "1               US  \n",
       "2               US  \n",
       "3           non US  \n",
       "4               US  \n",
       "5               US  \n",
       "133             US  \n",
       "134             US  \n",
       "135             US  \n",
       "136             US  \n",
       "137             US  "
      ]
     },
     "execution_count": 1030,
     "metadata": {},
     "output_type": "execute_result"
    }
   ],
   "source": [
    "# Check the outliers for every numerical column to make sure whether it's reasonable or not\n",
    "\n",
    "# Show the age column outliers\n",
    "Show_LLUL(X_train, 'age', age_LL, age_UL)"
   ]
  },
  {
   "cell_type": "markdown",
   "metadata": {},
   "source": [
    "Statement :\n",
    "<br>\n",
    "Since the number of outliers data is only 0.58% of the total data, outliers handling is not required."
   ]
  },
  {
   "cell_type": "code",
   "execution_count": 1031,
   "metadata": {},
   "outputs": [
    {
     "name": "stdout",
     "output_type": "stream",
     "text": [
      "0.63 % is considered as outliers\n"
     ]
    },
    {
     "data": {
      "text/html": [
       "<div>\n",
       "<style scoped>\n",
       "    .dataframe tbody tr th:only-of-type {\n",
       "        vertical-align: middle;\n",
       "    }\n",
       "\n",
       "    .dataframe tbody tr th {\n",
       "        vertical-align: top;\n",
       "    }\n",
       "\n",
       "    .dataframe thead th {\n",
       "        text-align: right;\n",
       "    }\n",
       "</style>\n",
       "<table border=\"1\" class=\"dataframe\">\n",
       "  <thead>\n",
       "    <tr style=\"text-align: right;\">\n",
       "      <th></th>\n",
       "      <th>index</th>\n",
       "      <th>age</th>\n",
       "      <th>workclass</th>\n",
       "      <th>education</th>\n",
       "      <th>education_num</th>\n",
       "      <th>marital_status</th>\n",
       "      <th>occupation</th>\n",
       "      <th>relationship</th>\n",
       "      <th>race</th>\n",
       "      <th>sex</th>\n",
       "      <th>capital_gain</th>\n",
       "      <th>capital_loss</th>\n",
       "      <th>hours_per_week</th>\n",
       "      <th>native_country</th>\n",
       "    </tr>\n",
       "  </thead>\n",
       "  <tbody>\n",
       "    <tr>\n",
       "      <th>0</th>\n",
       "      <td>26463</td>\n",
       "      <td>52</td>\n",
       "      <td>Private</td>\n",
       "      <td>Preschool</td>\n",
       "      <td>2</td>\n",
       "      <td>Married-civ-spouse</td>\n",
       "      <td>Office_worker</td>\n",
       "      <td>Husband</td>\n",
       "      <td>White</td>\n",
       "      <td>Male</td>\n",
       "      <td>0</td>\n",
       "      <td>0</td>\n",
       "      <td>50</td>\n",
       "      <td>US</td>\n",
       "    </tr>\n",
       "    <tr>\n",
       "      <th>1</th>\n",
       "      <td>20126</td>\n",
       "      <td>31</td>\n",
       "      <td>Private</td>\n",
       "      <td>Preschool</td>\n",
       "      <td>2</td>\n",
       "      <td>Married-civ-spouse</td>\n",
       "      <td>Household_assistant</td>\n",
       "      <td>Husband</td>\n",
       "      <td>White</td>\n",
       "      <td>Male</td>\n",
       "      <td>0</td>\n",
       "      <td>0</td>\n",
       "      <td>40</td>\n",
       "      <td>non US</td>\n",
       "    </tr>\n",
       "    <tr>\n",
       "      <th>2</th>\n",
       "      <td>11418</td>\n",
       "      <td>54</td>\n",
       "      <td>Private</td>\n",
       "      <td>Preschool</td>\n",
       "      <td>2</td>\n",
       "      <td>Married-civ-spouse</td>\n",
       "      <td>Technician</td>\n",
       "      <td>Husband</td>\n",
       "      <td>Black</td>\n",
       "      <td>Male</td>\n",
       "      <td>0</td>\n",
       "      <td>0</td>\n",
       "      <td>40</td>\n",
       "      <td>non US</td>\n",
       "    </tr>\n",
       "    <tr>\n",
       "      <th>3</th>\n",
       "      <td>12953</td>\n",
       "      <td>50</td>\n",
       "      <td>Private</td>\n",
       "      <td>Preschool</td>\n",
       "      <td>2</td>\n",
       "      <td>Married-spouse-absent</td>\n",
       "      <td>Technician</td>\n",
       "      <td>Unmarried</td>\n",
       "      <td>White</td>\n",
       "      <td>Male</td>\n",
       "      <td>0</td>\n",
       "      <td>0</td>\n",
       "      <td>40</td>\n",
       "      <td>US</td>\n",
       "    </tr>\n",
       "    <tr>\n",
       "      <th>4</th>\n",
       "      <td>20131</td>\n",
       "      <td>57</td>\n",
       "      <td>Private</td>\n",
       "      <td>Preschool</td>\n",
       "      <td>2</td>\n",
       "      <td>Married-civ-spouse</td>\n",
       "      <td>Household_assistant</td>\n",
       "      <td>Husband</td>\n",
       "      <td>White</td>\n",
       "      <td>Male</td>\n",
       "      <td>0</td>\n",
       "      <td>0</td>\n",
       "      <td>40</td>\n",
       "      <td>non US</td>\n",
       "    </tr>\n",
       "    <tr>\n",
       "      <th>5</th>\n",
       "      <td>3667</td>\n",
       "      <td>67</td>\n",
       "      <td>Self-emp-not-inc</td>\n",
       "      <td>Preschool</td>\n",
       "      <td>2</td>\n",
       "      <td>Widowed</td>\n",
       "      <td>Other-service</td>\n",
       "      <td>Not-in-family</td>\n",
       "      <td>Black</td>\n",
       "      <td>Female</td>\n",
       "      <td>0</td>\n",
       "      <td>0</td>\n",
       "      <td>20</td>\n",
       "      <td>US</td>\n",
       "    </tr>\n",
       "    <tr>\n",
       "      <th>145</th>\n",
       "      <td>24691</td>\n",
       "      <td>75</td>\n",
       "      <td>Private</td>\n",
       "      <td>Preschool</td>\n",
       "      <td>1</td>\n",
       "      <td>Never-married</td>\n",
       "      <td>Household_assistant</td>\n",
       "      <td>Not-in-family</td>\n",
       "      <td>Asian-Pac-Islander</td>\n",
       "      <td>Female</td>\n",
       "      <td>0</td>\n",
       "      <td>0</td>\n",
       "      <td>48</td>\n",
       "      <td>non US</td>\n",
       "    </tr>\n",
       "    <tr>\n",
       "      <th>146</th>\n",
       "      <td>2194</td>\n",
       "      <td>71</td>\n",
       "      <td>Private</td>\n",
       "      <td>Preschool</td>\n",
       "      <td>1</td>\n",
       "      <td>Widowed</td>\n",
       "      <td>Technician</td>\n",
       "      <td>Unmarried</td>\n",
       "      <td>Black</td>\n",
       "      <td>Male</td>\n",
       "      <td>0</td>\n",
       "      <td>0</td>\n",
       "      <td>10</td>\n",
       "      <td>US</td>\n",
       "    </tr>\n",
       "    <tr>\n",
       "      <th>147</th>\n",
       "      <td>27214</td>\n",
       "      <td>21</td>\n",
       "      <td>Private</td>\n",
       "      <td>Preschool</td>\n",
       "      <td>1</td>\n",
       "      <td>Never-married</td>\n",
       "      <td>Farming-fishing</td>\n",
       "      <td>Not-in-family</td>\n",
       "      <td>White</td>\n",
       "      <td>Male</td>\n",
       "      <td>0</td>\n",
       "      <td>0</td>\n",
       "      <td>50</td>\n",
       "      <td>non US</td>\n",
       "    </tr>\n",
       "    <tr>\n",
       "      <th>148</th>\n",
       "      <td>22073</td>\n",
       "      <td>59</td>\n",
       "      <td>Private</td>\n",
       "      <td>Preschool</td>\n",
       "      <td>1</td>\n",
       "      <td>Never-married</td>\n",
       "      <td>Operator</td>\n",
       "      <td>Not-in-family</td>\n",
       "      <td>White</td>\n",
       "      <td>Male</td>\n",
       "      <td>0</td>\n",
       "      <td>0</td>\n",
       "      <td>40</td>\n",
       "      <td>non US</td>\n",
       "    </tr>\n",
       "    <tr>\n",
       "      <th>149</th>\n",
       "      <td>12385</td>\n",
       "      <td>54</td>\n",
       "      <td>Private</td>\n",
       "      <td>Preschool</td>\n",
       "      <td>1</td>\n",
       "      <td>Married-civ-spouse</td>\n",
       "      <td>Technician</td>\n",
       "      <td>Husband</td>\n",
       "      <td>Asian-Pac-Islander</td>\n",
       "      <td>Male</td>\n",
       "      <td>0</td>\n",
       "      <td>0</td>\n",
       "      <td>40</td>\n",
       "      <td>non US</td>\n",
       "    </tr>\n",
       "  </tbody>\n",
       "</table>\n",
       "</div>"
      ],
      "text/plain": [
       "     index  age          workclass  education  education_num  \\\n",
       "0    26463   52            Private  Preschool              2   \n",
       "1    20126   31            Private  Preschool              2   \n",
       "2    11418   54            Private  Preschool              2   \n",
       "3    12953   50            Private  Preschool              2   \n",
       "4    20131   57            Private  Preschool              2   \n",
       "5     3667   67   Self-emp-not-inc  Preschool              2   \n",
       "145  24691   75            Private  Preschool              1   \n",
       "146   2194   71            Private  Preschool              1   \n",
       "147  27214   21            Private  Preschool              1   \n",
       "148  22073   59            Private  Preschool              1   \n",
       "149  12385   54            Private  Preschool              1   \n",
       "\n",
       "             marital_status           occupation    relationship  \\\n",
       "0        Married-civ-spouse        Office_worker         Husband   \n",
       "1        Married-civ-spouse  Household_assistant         Husband   \n",
       "2        Married-civ-spouse           Technician         Husband   \n",
       "3     Married-spouse-absent           Technician       Unmarried   \n",
       "4        Married-civ-spouse  Household_assistant         Husband   \n",
       "5                   Widowed        Other-service   Not-in-family   \n",
       "145           Never-married  Household_assistant   Not-in-family   \n",
       "146                 Widowed           Technician       Unmarried   \n",
       "147           Never-married      Farming-fishing   Not-in-family   \n",
       "148           Never-married             Operator   Not-in-family   \n",
       "149      Married-civ-spouse           Technician         Husband   \n",
       "\n",
       "                    race      sex  capital_gain  capital_loss  hours_per_week  \\\n",
       "0                  White     Male             0             0              50   \n",
       "1                  White     Male             0             0              40   \n",
       "2                  Black     Male             0             0              40   \n",
       "3                  White     Male             0             0              40   \n",
       "4                  White     Male             0             0              40   \n",
       "5                  Black   Female             0             0              20   \n",
       "145   Asian-Pac-Islander   Female             0             0              48   \n",
       "146                Black     Male             0             0              10   \n",
       "147                White     Male             0             0              50   \n",
       "148                White     Male             0             0              40   \n",
       "149   Asian-Pac-Islander     Male             0             0              40   \n",
       "\n",
       "    native_country  \n",
       "0               US  \n",
       "1           non US  \n",
       "2           non US  \n",
       "3               US  \n",
       "4           non US  \n",
       "5               US  \n",
       "145         non US  \n",
       "146             US  \n",
       "147         non US  \n",
       "148         non US  \n",
       "149         non US  "
      ]
     },
     "execution_count": 1031,
     "metadata": {},
     "output_type": "execute_result"
    }
   ],
   "source": [
    "# Show the education_num outliers\n",
    "Show_LLUL(X_train, 'education_num', education_num_LL, education_num_UL)"
   ]
  },
  {
   "cell_type": "markdown",
   "metadata": {},
   "source": [
    "Statement :\n",
    "<br>\n",
    "Since the number of outliers data is only 0.63% of the total data, outliers handling is not required."
   ]
  },
  {
   "cell_type": "code",
   "execution_count": 1032,
   "metadata": {},
   "outputs": [
    {
     "name": "stdout",
     "output_type": "stream",
     "text": [
      "8.49 % is considered as outliers\n"
     ]
    },
    {
     "data": {
      "text/html": [
       "<div>\n",
       "<style scoped>\n",
       "    .dataframe tbody tr th:only-of-type {\n",
       "        vertical-align: middle;\n",
       "    }\n",
       "\n",
       "    .dataframe tbody tr th {\n",
       "        vertical-align: top;\n",
       "    }\n",
       "\n",
       "    .dataframe thead th {\n",
       "        text-align: right;\n",
       "    }\n",
       "</style>\n",
       "<table border=\"1\" class=\"dataframe\">\n",
       "  <thead>\n",
       "    <tr style=\"text-align: right;\">\n",
       "      <th></th>\n",
       "      <th>index</th>\n",
       "      <th>age</th>\n",
       "      <th>workclass</th>\n",
       "      <th>education</th>\n",
       "      <th>education_num</th>\n",
       "      <th>marital_status</th>\n",
       "      <th>occupation</th>\n",
       "      <th>relationship</th>\n",
       "      <th>race</th>\n",
       "      <th>sex</th>\n",
       "      <th>capital_gain</th>\n",
       "      <th>capital_loss</th>\n",
       "      <th>hours_per_week</th>\n",
       "      <th>native_country</th>\n",
       "    </tr>\n",
       "  </thead>\n",
       "  <tbody>\n",
       "    <tr>\n",
       "      <th>0</th>\n",
       "      <td>17388</td>\n",
       "      <td>71</td>\n",
       "      <td>Self-emp-inc</td>\n",
       "      <td>Post_Grad</td>\n",
       "      <td>14</td>\n",
       "      <td>Married-civ-spouse</td>\n",
       "      <td>Office_worker</td>\n",
       "      <td>Husband</td>\n",
       "      <td>White</td>\n",
       "      <td>Male</td>\n",
       "      <td>99999</td>\n",
       "      <td>0</td>\n",
       "      <td>40</td>\n",
       "      <td>US</td>\n",
       "    </tr>\n",
       "    <tr>\n",
       "      <th>1</th>\n",
       "      <td>22712</td>\n",
       "      <td>57</td>\n",
       "      <td>Self-emp-not-inc</td>\n",
       "      <td>College</td>\n",
       "      <td>10</td>\n",
       "      <td>Married-civ-spouse</td>\n",
       "      <td>Office_worker</td>\n",
       "      <td>Husband</td>\n",
       "      <td>White</td>\n",
       "      <td>Male</td>\n",
       "      <td>99999</td>\n",
       "      <td>0</td>\n",
       "      <td>45</td>\n",
       "      <td>US</td>\n",
       "    </tr>\n",
       "    <tr>\n",
       "      <th>2</th>\n",
       "      <td>17747</td>\n",
       "      <td>43</td>\n",
       "      <td>Self-emp-inc</td>\n",
       "      <td>Post_Grad</td>\n",
       "      <td>15</td>\n",
       "      <td>Married-civ-spouse</td>\n",
       "      <td>Office_worker</td>\n",
       "      <td>Husband</td>\n",
       "      <td>White</td>\n",
       "      <td>Male</td>\n",
       "      <td>99999</td>\n",
       "      <td>0</td>\n",
       "      <td>40</td>\n",
       "      <td>US</td>\n",
       "    </tr>\n",
       "    <tr>\n",
       "      <th>3</th>\n",
       "      <td>28899</td>\n",
       "      <td>57</td>\n",
       "      <td>Self-emp-inc</td>\n",
       "      <td>Post_Grad</td>\n",
       "      <td>15</td>\n",
       "      <td>Married-civ-spouse</td>\n",
       "      <td>Professional</td>\n",
       "      <td>Husband</td>\n",
       "      <td>White</td>\n",
       "      <td>Male</td>\n",
       "      <td>99999</td>\n",
       "      <td>0</td>\n",
       "      <td>60</td>\n",
       "      <td>US</td>\n",
       "    </tr>\n",
       "    <tr>\n",
       "      <th>4</th>\n",
       "      <td>27981</td>\n",
       "      <td>47</td>\n",
       "      <td>Private</td>\n",
       "      <td>Post_Grad</td>\n",
       "      <td>14</td>\n",
       "      <td>Married-civ-spouse</td>\n",
       "      <td>Office_worker</td>\n",
       "      <td>Husband</td>\n",
       "      <td>White</td>\n",
       "      <td>Male</td>\n",
       "      <td>99999</td>\n",
       "      <td>0</td>\n",
       "      <td>55</td>\n",
       "      <td>US</td>\n",
       "    </tr>\n",
       "    <tr>\n",
       "      <th>5</th>\n",
       "      <td>26810</td>\n",
       "      <td>50</td>\n",
       "      <td>Private</td>\n",
       "      <td>College</td>\n",
       "      <td>10</td>\n",
       "      <td>Married-civ-spouse</td>\n",
       "      <td>Office_worker</td>\n",
       "      <td>Husband</td>\n",
       "      <td>White</td>\n",
       "      <td>Male</td>\n",
       "      <td>99999</td>\n",
       "      <td>0</td>\n",
       "      <td>50</td>\n",
       "      <td>US</td>\n",
       "    </tr>\n",
       "    <tr>\n",
       "      <th>2041</th>\n",
       "      <td>4065</td>\n",
       "      <td>77</td>\n",
       "      <td>Self-emp-not-inc</td>\n",
       "      <td>SHS</td>\n",
       "      <td>9</td>\n",
       "      <td>Never-married</td>\n",
       "      <td>Operator</td>\n",
       "      <td>Not-in-family</td>\n",
       "      <td>White</td>\n",
       "      <td>Male</td>\n",
       "      <td>401</td>\n",
       "      <td>0</td>\n",
       "      <td>20</td>\n",
       "      <td>US</td>\n",
       "    </tr>\n",
       "    <tr>\n",
       "      <th>2042</th>\n",
       "      <td>7721</td>\n",
       "      <td>38</td>\n",
       "      <td>State-gov</td>\n",
       "      <td>SHS</td>\n",
       "      <td>9</td>\n",
       "      <td>Never-married</td>\n",
       "      <td>Other-service</td>\n",
       "      <td>Unmarried</td>\n",
       "      <td>Black</td>\n",
       "      <td>Female</td>\n",
       "      <td>114</td>\n",
       "      <td>0</td>\n",
       "      <td>38</td>\n",
       "      <td>US</td>\n",
       "    </tr>\n",
       "    <tr>\n",
       "      <th>2043</th>\n",
       "      <td>27764</td>\n",
       "      <td>33</td>\n",
       "      <td>Private</td>\n",
       "      <td>Elementary</td>\n",
       "      <td>5</td>\n",
       "      <td>Divorced</td>\n",
       "      <td>Technician</td>\n",
       "      <td>Unmarried</td>\n",
       "      <td>White</td>\n",
       "      <td>Male</td>\n",
       "      <td>114</td>\n",
       "      <td>0</td>\n",
       "      <td>55</td>\n",
       "      <td>US</td>\n",
       "    </tr>\n",
       "    <tr>\n",
       "      <th>2044</th>\n",
       "      <td>22914</td>\n",
       "      <td>39</td>\n",
       "      <td>Private</td>\n",
       "      <td>College</td>\n",
       "      <td>10</td>\n",
       "      <td>Divorced</td>\n",
       "      <td>Office_worker</td>\n",
       "      <td>Unmarried</td>\n",
       "      <td>White</td>\n",
       "      <td>Female</td>\n",
       "      <td>114</td>\n",
       "      <td>0</td>\n",
       "      <td>45</td>\n",
       "      <td>US</td>\n",
       "    </tr>\n",
       "    <tr>\n",
       "      <th>2045</th>\n",
       "      <td>3317</td>\n",
       "      <td>20</td>\n",
       "      <td>Private</td>\n",
       "      <td>Elementary</td>\n",
       "      <td>5</td>\n",
       "      <td>Never-married</td>\n",
       "      <td>Office_worker</td>\n",
       "      <td>Unmarried</td>\n",
       "      <td>Black</td>\n",
       "      <td>Female</td>\n",
       "      <td>114</td>\n",
       "      <td>0</td>\n",
       "      <td>20</td>\n",
       "      <td>US</td>\n",
       "    </tr>\n",
       "  </tbody>\n",
       "</table>\n",
       "</div>"
      ],
      "text/plain": [
       "      index  age          workclass   education  education_num  \\\n",
       "0     17388   71       Self-emp-inc   Post_Grad             14   \n",
       "1     22712   57   Self-emp-not-inc     College             10   \n",
       "2     17747   43       Self-emp-inc   Post_Grad             15   \n",
       "3     28899   57       Self-emp-inc   Post_Grad             15   \n",
       "4     27981   47            Private   Post_Grad             14   \n",
       "5     26810   50            Private     College             10   \n",
       "2041   4065   77   Self-emp-not-inc         SHS              9   \n",
       "2042   7721   38          State-gov         SHS              9   \n",
       "2043  27764   33            Private  Elementary              5   \n",
       "2044  22914   39            Private     College             10   \n",
       "2045   3317   20            Private  Elementary              5   \n",
       "\n",
       "           marital_status      occupation    relationship    race      sex  \\\n",
       "0      Married-civ-spouse   Office_worker         Husband   White     Male   \n",
       "1      Married-civ-spouse   Office_worker         Husband   White     Male   \n",
       "2      Married-civ-spouse   Office_worker         Husband   White     Male   \n",
       "3      Married-civ-spouse    Professional         Husband   White     Male   \n",
       "4      Married-civ-spouse   Office_worker         Husband   White     Male   \n",
       "5      Married-civ-spouse   Office_worker         Husband   White     Male   \n",
       "2041        Never-married        Operator   Not-in-family   White     Male   \n",
       "2042        Never-married   Other-service       Unmarried   Black   Female   \n",
       "2043             Divorced      Technician       Unmarried   White     Male   \n",
       "2044             Divorced   Office_worker       Unmarried   White   Female   \n",
       "2045        Never-married   Office_worker       Unmarried   Black   Female   \n",
       "\n",
       "      capital_gain  capital_loss  hours_per_week native_country  \n",
       "0            99999             0              40             US  \n",
       "1            99999             0              45             US  \n",
       "2            99999             0              40             US  \n",
       "3            99999             0              60             US  \n",
       "4            99999             0              55             US  \n",
       "5            99999             0              50             US  \n",
       "2041           401             0              20             US  \n",
       "2042           114             0              38             US  \n",
       "2043           114             0              55             US  \n",
       "2044           114             0              45             US  \n",
       "2045           114             0              20             US  "
      ]
     },
     "execution_count": 1032,
     "metadata": {},
     "output_type": "execute_result"
    }
   ],
   "source": [
    "# Show the capital_gain column outliers\n",
    "Show_LLUL(X_train, 'capital_gain', capital_gain_LL, capital_gain_UL)"
   ]
  },
  {
   "cell_type": "markdown",
   "metadata": {},
   "source": [
    "Statement :\n",
    "<br>\n",
    "Since the number of outliers is over than 5% than the number of total data, outliers handling is required.\n",
    "<br>\n",
    "But, since EDA we already know that the data distribution in capital_gain column is abnormal and the number of total outliers makes it worse. With that in mind, the capital_gain column will be removed."
   ]
  },
  {
   "cell_type": "code",
   "execution_count": 1033,
   "metadata": {},
   "outputs": [],
   "source": [
    "# Remove the capital_gain column\n",
    "X_train = X_train.drop(['capital_gain'], axis = 1)"
   ]
  },
  {
   "cell_type": "code",
   "execution_count": 1034,
   "metadata": {},
   "outputs": [
    {
     "name": "stdout",
     "output_type": "stream",
     "text": [
      "4.79 % is considered as outliers\n"
     ]
    },
    {
     "data": {
      "text/html": [
       "<div>\n",
       "<style scoped>\n",
       "    .dataframe tbody tr th:only-of-type {\n",
       "        vertical-align: middle;\n",
       "    }\n",
       "\n",
       "    .dataframe tbody tr th {\n",
       "        vertical-align: top;\n",
       "    }\n",
       "\n",
       "    .dataframe thead th {\n",
       "        text-align: right;\n",
       "    }\n",
       "</style>\n",
       "<table border=\"1\" class=\"dataframe\">\n",
       "  <thead>\n",
       "    <tr style=\"text-align: right;\">\n",
       "      <th></th>\n",
       "      <th>index</th>\n",
       "      <th>age</th>\n",
       "      <th>workclass</th>\n",
       "      <th>education</th>\n",
       "      <th>education_num</th>\n",
       "      <th>marital_status</th>\n",
       "      <th>occupation</th>\n",
       "      <th>relationship</th>\n",
       "      <th>race</th>\n",
       "      <th>sex</th>\n",
       "      <th>capital_loss</th>\n",
       "      <th>hours_per_week</th>\n",
       "      <th>native_country</th>\n",
       "    </tr>\n",
       "  </thead>\n",
       "  <tbody>\n",
       "    <tr>\n",
       "      <th>0</th>\n",
       "      <td>1549</td>\n",
       "      <td>82</td>\n",
       "      <td>Private</td>\n",
       "      <td>SHS</td>\n",
       "      <td>9</td>\n",
       "      <td>Widowed</td>\n",
       "      <td>Office_worker</td>\n",
       "      <td>Not-in-family</td>\n",
       "      <td>White</td>\n",
       "      <td>Female</td>\n",
       "      <td>4356</td>\n",
       "      <td>18</td>\n",
       "      <td>US</td>\n",
       "    </tr>\n",
       "    <tr>\n",
       "      <th>1</th>\n",
       "      <td>16253</td>\n",
       "      <td>41</td>\n",
       "      <td>Private</td>\n",
       "      <td>College</td>\n",
       "      <td>10</td>\n",
       "      <td>Separated</td>\n",
       "      <td>Professional</td>\n",
       "      <td>Own-child</td>\n",
       "      <td>White</td>\n",
       "      <td>Female</td>\n",
       "      <td>3900</td>\n",
       "      <td>40</td>\n",
       "      <td>US</td>\n",
       "    </tr>\n",
       "    <tr>\n",
       "      <th>2</th>\n",
       "      <td>23295</td>\n",
       "      <td>34</td>\n",
       "      <td>Private</td>\n",
       "      <td>SHS</td>\n",
       "      <td>9</td>\n",
       "      <td>Divorced</td>\n",
       "      <td>Other-service</td>\n",
       "      <td>Unmarried</td>\n",
       "      <td>White</td>\n",
       "      <td>Female</td>\n",
       "      <td>3770</td>\n",
       "      <td>45</td>\n",
       "      <td>US</td>\n",
       "    </tr>\n",
       "    <tr>\n",
       "      <th>3</th>\n",
       "      <td>16460</td>\n",
       "      <td>68</td>\n",
       "      <td>Federal-gov</td>\n",
       "      <td>SHS</td>\n",
       "      <td>9</td>\n",
       "      <td>Divorced</td>\n",
       "      <td>Professional</td>\n",
       "      <td>Not-in-family</td>\n",
       "      <td>White</td>\n",
       "      <td>Female</td>\n",
       "      <td>3683</td>\n",
       "      <td>40</td>\n",
       "      <td>US</td>\n",
       "    </tr>\n",
       "    <tr>\n",
       "      <th>4</th>\n",
       "      <td>3834</td>\n",
       "      <td>74</td>\n",
       "      <td>State-gov</td>\n",
       "      <td>Doctorate</td>\n",
       "      <td>16</td>\n",
       "      <td>Never-married</td>\n",
       "      <td>Professional</td>\n",
       "      <td>Other-relative</td>\n",
       "      <td>White</td>\n",
       "      <td>Female</td>\n",
       "      <td>3683</td>\n",
       "      <td>20</td>\n",
       "      <td>US</td>\n",
       "    </tr>\n",
       "    <tr>\n",
       "      <th>5</th>\n",
       "      <td>6950</td>\n",
       "      <td>45</td>\n",
       "      <td>Private</td>\n",
       "      <td>Doctorate</td>\n",
       "      <td>16</td>\n",
       "      <td>Divorced</td>\n",
       "      <td>Professional</td>\n",
       "      <td>Unmarried</td>\n",
       "      <td>Black</td>\n",
       "      <td>Female</td>\n",
       "      <td>3004</td>\n",
       "      <td>35</td>\n",
       "      <td>US</td>\n",
       "    </tr>\n",
       "    <tr>\n",
       "      <th>1149</th>\n",
       "      <td>2476</td>\n",
       "      <td>68</td>\n",
       "      <td>Private</td>\n",
       "      <td>SHS</td>\n",
       "      <td>9</td>\n",
       "      <td>Married-civ-spouse</td>\n",
       "      <td>Operator</td>\n",
       "      <td>Husband</td>\n",
       "      <td>White</td>\n",
       "      <td>Male</td>\n",
       "      <td>419</td>\n",
       "      <td>12</td>\n",
       "      <td>US</td>\n",
       "    </tr>\n",
       "    <tr>\n",
       "      <th>1150</th>\n",
       "      <td>3788</td>\n",
       "      <td>49</td>\n",
       "      <td>Local-gov</td>\n",
       "      <td>Post_Grad</td>\n",
       "      <td>14</td>\n",
       "      <td>Widowed</td>\n",
       "      <td>Professional</td>\n",
       "      <td>Unmarried</td>\n",
       "      <td>White</td>\n",
       "      <td>Female</td>\n",
       "      <td>323</td>\n",
       "      <td>20</td>\n",
       "      <td>US</td>\n",
       "    </tr>\n",
       "    <tr>\n",
       "      <th>1151</th>\n",
       "      <td>16377</td>\n",
       "      <td>36</td>\n",
       "      <td>Private</td>\n",
       "      <td>Bachelors</td>\n",
       "      <td>13</td>\n",
       "      <td>Divorced</td>\n",
       "      <td>Professional</td>\n",
       "      <td>Unmarried</td>\n",
       "      <td>Black</td>\n",
       "      <td>Female</td>\n",
       "      <td>213</td>\n",
       "      <td>40</td>\n",
       "      <td>US</td>\n",
       "    </tr>\n",
       "    <tr>\n",
       "      <th>1152</th>\n",
       "      <td>23896</td>\n",
       "      <td>37</td>\n",
       "      <td>Private</td>\n",
       "      <td>Post_Grad</td>\n",
       "      <td>14</td>\n",
       "      <td>Divorced</td>\n",
       "      <td>Office_worker</td>\n",
       "      <td>Unmarried</td>\n",
       "      <td>White</td>\n",
       "      <td>Female</td>\n",
       "      <td>213</td>\n",
       "      <td>45</td>\n",
       "      <td>US</td>\n",
       "    </tr>\n",
       "    <tr>\n",
       "      <th>1153</th>\n",
       "      <td>10281</td>\n",
       "      <td>38</td>\n",
       "      <td>Private</td>\n",
       "      <td>Bachelors</td>\n",
       "      <td>13</td>\n",
       "      <td>Divorced</td>\n",
       "      <td>Office_worker</td>\n",
       "      <td>Unmarried</td>\n",
       "      <td>Asian-Pac-Islander</td>\n",
       "      <td>Female</td>\n",
       "      <td>213</td>\n",
       "      <td>40</td>\n",
       "      <td>non US</td>\n",
       "    </tr>\n",
       "  </tbody>\n",
       "</table>\n",
       "</div>"
      ],
      "text/plain": [
       "      index  age     workclass   education  education_num  \\\n",
       "0      1549   82       Private         SHS              9   \n",
       "1     16253   41       Private     College             10   \n",
       "2     23295   34       Private         SHS              9   \n",
       "3     16460   68   Federal-gov         SHS              9   \n",
       "4      3834   74     State-gov   Doctorate             16   \n",
       "5      6950   45       Private   Doctorate             16   \n",
       "1149   2476   68       Private         SHS              9   \n",
       "1150   3788   49     Local-gov   Post_Grad             14   \n",
       "1151  16377   36       Private   Bachelors             13   \n",
       "1152  23896   37       Private   Post_Grad             14   \n",
       "1153  10281   38       Private   Bachelors             13   \n",
       "\n",
       "           marital_status      occupation     relationship  \\\n",
       "0                 Widowed   Office_worker    Not-in-family   \n",
       "1               Separated    Professional        Own-child   \n",
       "2                Divorced   Other-service        Unmarried   \n",
       "3                Divorced    Professional    Not-in-family   \n",
       "4           Never-married    Professional   Other-relative   \n",
       "5                Divorced    Professional        Unmarried   \n",
       "1149   Married-civ-spouse        Operator          Husband   \n",
       "1150              Widowed    Professional        Unmarried   \n",
       "1151             Divorced    Professional        Unmarried   \n",
       "1152             Divorced   Office_worker        Unmarried   \n",
       "1153             Divorced   Office_worker        Unmarried   \n",
       "\n",
       "                     race      sex  capital_loss  hours_per_week  \\\n",
       "0                   White   Female          4356              18   \n",
       "1                   White   Female          3900              40   \n",
       "2                   White   Female          3770              45   \n",
       "3                   White   Female          3683              40   \n",
       "4                   White   Female          3683              20   \n",
       "5                   Black   Female          3004              35   \n",
       "1149                White     Male           419              12   \n",
       "1150                White   Female           323              20   \n",
       "1151                Black   Female           213              40   \n",
       "1152                White   Female           213              45   \n",
       "1153   Asian-Pac-Islander   Female           213              40   \n",
       "\n",
       "     native_country  \n",
       "0                US  \n",
       "1                US  \n",
       "2                US  \n",
       "3                US  \n",
       "4                US  \n",
       "5                US  \n",
       "1149             US  \n",
       "1150             US  \n",
       "1151             US  \n",
       "1152             US  \n",
       "1153         non US  "
      ]
     },
     "execution_count": 1034,
     "metadata": {},
     "output_type": "execute_result"
    }
   ],
   "source": [
    "# Show the capital_loss column outliers\n",
    "Show_LLUL(X_train, 'capital_loss', capital_loss_LL, capital_loss_UL)"
   ]
  },
  {
   "cell_type": "markdown",
   "metadata": {},
   "source": [
    "Statement :\n",
    "<br>\n",
    "Since the number of outliers is less than 5% than the number of total data, outliers handling is not required."
   ]
  },
  {
   "cell_type": "code",
   "execution_count": 1035,
   "metadata": {},
   "outputs": [
    {
     "name": "stdout",
     "output_type": "stream",
     "text": [
      "1.45 % is considered as outliers\n"
     ]
    },
    {
     "data": {
      "text/html": [
       "<div>\n",
       "<style scoped>\n",
       "    .dataframe tbody tr th:only-of-type {\n",
       "        vertical-align: middle;\n",
       "    }\n",
       "\n",
       "    .dataframe tbody tr th {\n",
       "        vertical-align: top;\n",
       "    }\n",
       "\n",
       "    .dataframe thead th {\n",
       "        text-align: right;\n",
       "    }\n",
       "</style>\n",
       "<table border=\"1\" class=\"dataframe\">\n",
       "  <thead>\n",
       "    <tr style=\"text-align: right;\">\n",
       "      <th></th>\n",
       "      <th>index</th>\n",
       "      <th>age</th>\n",
       "      <th>workclass</th>\n",
       "      <th>education</th>\n",
       "      <th>education_num</th>\n",
       "      <th>marital_status</th>\n",
       "      <th>occupation</th>\n",
       "      <th>relationship</th>\n",
       "      <th>race</th>\n",
       "      <th>sex</th>\n",
       "      <th>capital_loss</th>\n",
       "      <th>hours_per_week</th>\n",
       "      <th>native_country</th>\n",
       "    </tr>\n",
       "  </thead>\n",
       "  <tbody>\n",
       "    <tr>\n",
       "      <th>0</th>\n",
       "      <td>1309</td>\n",
       "      <td>67</td>\n",
       "      <td>Private</td>\n",
       "      <td>Post_Grad</td>\n",
       "      <td>14</td>\n",
       "      <td>Never-married</td>\n",
       "      <td>Professional</td>\n",
       "      <td>Not-in-family</td>\n",
       "      <td>White</td>\n",
       "      <td>Male</td>\n",
       "      <td>0</td>\n",
       "      <td>99</td>\n",
       "      <td>US</td>\n",
       "    </tr>\n",
       "    <tr>\n",
       "      <th>1</th>\n",
       "      <td>1364</td>\n",
       "      <td>44</td>\n",
       "      <td>Private</td>\n",
       "      <td>Post_Grad</td>\n",
       "      <td>15</td>\n",
       "      <td>Divorced</td>\n",
       "      <td>Professional</td>\n",
       "      <td>Not-in-family</td>\n",
       "      <td>White</td>\n",
       "      <td>Female</td>\n",
       "      <td>0</td>\n",
       "      <td>99</td>\n",
       "      <td>US</td>\n",
       "    </tr>\n",
       "    <tr>\n",
       "      <th>2</th>\n",
       "      <td>1880</td>\n",
       "      <td>39</td>\n",
       "      <td>Private</td>\n",
       "      <td>Bachelors</td>\n",
       "      <td>13</td>\n",
       "      <td>Married-civ-spouse</td>\n",
       "      <td>Operator</td>\n",
       "      <td>Husband</td>\n",
       "      <td>White</td>\n",
       "      <td>Male</td>\n",
       "      <td>0</td>\n",
       "      <td>99</td>\n",
       "      <td>US</td>\n",
       "    </tr>\n",
       "    <tr>\n",
       "      <th>3</th>\n",
       "      <td>539</td>\n",
       "      <td>37</td>\n",
       "      <td>Private</td>\n",
       "      <td>SHS</td>\n",
       "      <td>9</td>\n",
       "      <td>Married-civ-spouse</td>\n",
       "      <td>Technician</td>\n",
       "      <td>Husband</td>\n",
       "      <td>White</td>\n",
       "      <td>Male</td>\n",
       "      <td>0</td>\n",
       "      <td>99</td>\n",
       "      <td>US</td>\n",
       "    </tr>\n",
       "    <tr>\n",
       "      <th>4</th>\n",
       "      <td>801</td>\n",
       "      <td>44</td>\n",
       "      <td>Self-emp-not-inc</td>\n",
       "      <td>College</td>\n",
       "      <td>12</td>\n",
       "      <td>Married-civ-spouse</td>\n",
       "      <td>Other-service</td>\n",
       "      <td>Wife</td>\n",
       "      <td>White</td>\n",
       "      <td>Female</td>\n",
       "      <td>0</td>\n",
       "      <td>99</td>\n",
       "      <td>US</td>\n",
       "    </tr>\n",
       "    <tr>\n",
       "      <th>5</th>\n",
       "      <td>1354</td>\n",
       "      <td>34</td>\n",
       "      <td>Federal-gov</td>\n",
       "      <td>Doctorate</td>\n",
       "      <td>16</td>\n",
       "      <td>Never-married</td>\n",
       "      <td>Professional</td>\n",
       "      <td>Not-in-family</td>\n",
       "      <td>White</td>\n",
       "      <td>Female</td>\n",
       "      <td>0</td>\n",
       "      <td>99</td>\n",
       "      <td>US</td>\n",
       "    </tr>\n",
       "    <tr>\n",
       "      <th>344</th>\n",
       "      <td>1952</td>\n",
       "      <td>82</td>\n",
       "      <td>Private</td>\n",
       "      <td>Elementary</td>\n",
       "      <td>4</td>\n",
       "      <td>Married-civ-spouse</td>\n",
       "      <td>Household_assistant</td>\n",
       "      <td>Husband</td>\n",
       "      <td>White</td>\n",
       "      <td>Male</td>\n",
       "      <td>0</td>\n",
       "      <td>2</td>\n",
       "      <td>US</td>\n",
       "    </tr>\n",
       "    <tr>\n",
       "      <th>345</th>\n",
       "      <td>1313</td>\n",
       "      <td>67</td>\n",
       "      <td>Self-emp-not-inc</td>\n",
       "      <td>Post_Grad</td>\n",
       "      <td>14</td>\n",
       "      <td>Widowed</td>\n",
       "      <td>Professional</td>\n",
       "      <td>Not-in-family</td>\n",
       "      <td>White</td>\n",
       "      <td>Male</td>\n",
       "      <td>0</td>\n",
       "      <td>2</td>\n",
       "      <td>US</td>\n",
       "    </tr>\n",
       "    <tr>\n",
       "      <th>346</th>\n",
       "      <td>2128</td>\n",
       "      <td>27</td>\n",
       "      <td>Private</td>\n",
       "      <td>SHS</td>\n",
       "      <td>9</td>\n",
       "      <td>Never-married</td>\n",
       "      <td>Operator</td>\n",
       "      <td>Other-relative</td>\n",
       "      <td>White</td>\n",
       "      <td>Male</td>\n",
       "      <td>0</td>\n",
       "      <td>1</td>\n",
       "      <td>US</td>\n",
       "    </tr>\n",
       "    <tr>\n",
       "      <th>347</th>\n",
       "      <td>2089</td>\n",
       "      <td>21</td>\n",
       "      <td>Private</td>\n",
       "      <td>SHS</td>\n",
       "      <td>9</td>\n",
       "      <td>Never-married</td>\n",
       "      <td>Operator</td>\n",
       "      <td>Own-child</td>\n",
       "      <td>Black</td>\n",
       "      <td>Male</td>\n",
       "      <td>0</td>\n",
       "      <td>1</td>\n",
       "      <td>US</td>\n",
       "    </tr>\n",
       "    <tr>\n",
       "      <th>348</th>\n",
       "      <td>660</td>\n",
       "      <td>23</td>\n",
       "      <td>Private</td>\n",
       "      <td>SHS</td>\n",
       "      <td>9</td>\n",
       "      <td>Never-married</td>\n",
       "      <td>Technician</td>\n",
       "      <td>Own-child</td>\n",
       "      <td>Asian-Pac-Islander</td>\n",
       "      <td>Male</td>\n",
       "      <td>0</td>\n",
       "      <td>1</td>\n",
       "      <td>non US</td>\n",
       "    </tr>\n",
       "  </tbody>\n",
       "</table>\n",
       "</div>"
      ],
      "text/plain": [
       "     index  age          workclass   education  education_num  \\\n",
       "0     1309   67            Private   Post_Grad             14   \n",
       "1     1364   44            Private   Post_Grad             15   \n",
       "2     1880   39            Private   Bachelors             13   \n",
       "3      539   37            Private         SHS              9   \n",
       "4      801   44   Self-emp-not-inc     College             12   \n",
       "5     1354   34        Federal-gov   Doctorate             16   \n",
       "344   1952   82            Private  Elementary              4   \n",
       "345   1313   67   Self-emp-not-inc   Post_Grad             14   \n",
       "346   2128   27            Private         SHS              9   \n",
       "347   2089   21            Private         SHS              9   \n",
       "348    660   23            Private         SHS              9   \n",
       "\n",
       "          marital_status           occupation     relationship  \\\n",
       "0          Never-married         Professional    Not-in-family   \n",
       "1               Divorced         Professional    Not-in-family   \n",
       "2     Married-civ-spouse             Operator          Husband   \n",
       "3     Married-civ-spouse           Technician          Husband   \n",
       "4     Married-civ-spouse        Other-service             Wife   \n",
       "5          Never-married         Professional    Not-in-family   \n",
       "344   Married-civ-spouse  Household_assistant          Husband   \n",
       "345              Widowed         Professional    Not-in-family   \n",
       "346        Never-married             Operator   Other-relative   \n",
       "347        Never-married             Operator        Own-child   \n",
       "348        Never-married           Technician        Own-child   \n",
       "\n",
       "                    race      sex  capital_loss  hours_per_week native_country  \n",
       "0                  White     Male             0              99             US  \n",
       "1                  White   Female             0              99             US  \n",
       "2                  White     Male             0              99             US  \n",
       "3                  White     Male             0              99             US  \n",
       "4                  White   Female             0              99             US  \n",
       "5                  White   Female             0              99             US  \n",
       "344                White     Male             0               2             US  \n",
       "345                White     Male             0               2             US  \n",
       "346                White     Male             0               1             US  \n",
       "347                Black     Male             0               1             US  \n",
       "348   Asian-Pac-Islander     Male             0               1         non US  "
      ]
     },
     "execution_count": 1035,
     "metadata": {},
     "output_type": "execute_result"
    }
   ],
   "source": [
    "# Show the hours_per_week column outliers\n",
    "Show_LLUL(X_train, 'hours_per_week', hours_per_week_LL, hours_per_week_UL)"
   ]
  },
  {
   "cell_type": "markdown",
   "metadata": {},
   "source": [
    "Statement :\n",
    "<br>\n",
    "Since the number of outliers data is only 1.45% of the total data, outliers handling is not required."
   ]
  },
  {
   "cell_type": "markdown",
   "metadata": {},
   "source": [
    "### 4. Data Preprocessing - Features Scaling and Encoding"
   ]
  },
  {
   "cell_type": "code",
   "execution_count": 1036,
   "metadata": {},
   "outputs": [],
   "source": [
    "# Make a new column list\n",
    "num_raw_2 = np.delete(num_raw, 2) # Numerical\n",
    "cat_raw_2 = np.delete(cat_raw, -1) # Categorical\n",
    "\n",
    "# Split train test columns by type\n",
    "\n",
    "# Numerical columns\n",
    "X_train_num = X_train[num_raw_2]\n",
    "X_test_num = X_test[num_raw_2]\n",
    "\n",
    "# Categorical columns\n",
    "X_train_cat = X_train[cat_raw_2]\n",
    "X_test_cat = X_test[cat_raw_2]\n"
   ]
  },
  {
   "cell_type": "code",
   "execution_count": 1037,
   "metadata": {},
   "outputs": [
    {
     "data": {
      "text/plain": [
       "age               0.534302\n",
       "education_num    -0.311754\n",
       "capital_loss      4.487798\n",
       "hours_per_week    0.341481\n",
       "dtype: float64"
      ]
     },
     "execution_count": 1037,
     "metadata": {},
     "output_type": "execute_result"
    }
   ],
   "source": [
    "# Check the numerical data distribution using skewness value\n",
    "X_train_num.skew()"
   ]
  },
  {
   "cell_type": "markdown",
   "metadata": {},
   "source": [
    "Statement :\n",
    "<br>\n",
    "Numerical features will be broken down into columns that have a normal distribution and a skewed distribution for scaling purposes.\n",
    "<br>\n",
    "age, capital_loss = skewed distribution ( less than -0.5 or over than 0.5 )\n",
    "<br>\n",
    "education_num, hours_per_week = normal distribution ( between -0.5 to 0.5 )"
   ]
  },
  {
   "cell_type": "code",
   "execution_count": 1038,
   "metadata": {},
   "outputs": [],
   "source": [
    "# Make a new column list\n",
    "num_nor = ['education_num', 'hours_per_week'] # Normal distribution\n",
    "num_skew = ['age', 'capital_loss'] # Skeweed distribution\n",
    "\n",
    "X_train_num_nor = X_train_num[num_nor]\n",
    "X_train_num_skew = X_train_num[num_skew]\n",
    "X_test_num_nor = X_test_num[num_nor]\n",
    "X_test_num_skew = X_test_num[num_skew]"
   ]
  },
  {
   "cell_type": "code",
   "execution_count": 1039,
   "metadata": {},
   "outputs": [],
   "source": [
    "# Define a function for scaling\n",
    "skew_scaler = MinMaxScaler()\n",
    "nor_scaler = StandardScaler()\n",
    "\n",
    "# Scaler trainig\n",
    "nor_scaler.fit(X_train_num_nor)\n",
    "skew_scaler.fit(X_train_num_skew)\n",
    "\n",
    "# Making new dataset that contain scaling values\n",
    "X_train_num_nor_scaled = nor_scaler.transform(X_train_num_nor)\n",
    "X_train_num_skew_scaled = skew_scaler.transform(X_train_num_skew)\n",
    "X_test_num_nor_scaled = nor_scaler.transform(X_test_num_nor)\n",
    "X_test_num_skew_scaled = skew_scaler.transform(X_test_num_skew)"
   ]
  },
  {
   "cell_type": "code",
   "execution_count": 1040,
   "metadata": {},
   "outputs": [],
   "source": [
    "# Make an encoding function\n",
    "encoder = OrdinalEncoder(categories = [[' Self-emp-not-inc', ' Private', ' Self-emp-inc', ' Federal-gov', ' Local-gov', ' State-gov', ' Without-pay'],\n",
    "                                      ['Preschool', 'Elementary', 'JHS', 'SHS', 'College', ' Bachelors', 'Post_Grad', ' Doctorate'],\n",
    "                                      [' Married-civ-spouse', ' Never-married', ' Divorced', ' Separated', ' Widowed', ' Married-spouse-absent', ' Married-AF-spouse'],\n",
    "                                      [' Farming-fishing', 'Office_worker', ' Other-service', 'Operator', 'Technician', 'Household_assistant', 'Professional', 'Security'],\n",
    "                                      [' Husband', ' Own-child', ' Other-relative', ' Unmarried', ' Not-in-family', ' Wife'],\n",
    "                                      [' White', ' Black', ' Asian-Pac-Islander', ' Other', ' Amer-Indian-Eskimo'],\n",
    "                                      [' Male', ' Female'],\n",
    "                                      ['US', 'non US']])\n",
    "encoder.fit(X_train_cat)\n",
    "\n",
    "# Making new dataset that contain encoding values\n",
    "X_train_cat_encoded = encoder.transform(X_train_cat)\n",
    "X_test_cat_encoded = encoder.transform(X_test_cat)"
   ]
  },
  {
   "cell_type": "code",
   "execution_count": 1041,
   "metadata": {},
   "outputs": [],
   "source": [
    "# Combine the numerical and categorical columns\n",
    "X_train_num_final = np.concatenate([X_train_num_nor_scaled, X_train_num_skew_scaled], axis=1)\n",
    "X_train_cat_final = X_train_cat_encoded\n",
    "X_train_final = np.concatenate([X_train_num_nor_scaled, X_train_num_skew_scaled, X_train_cat_encoded], axis=1)\n",
    "X_test_final = np.concatenate([X_test_num_nor_scaled, X_test_num_skew_scaled, X_test_cat_encoded], axis=1)"
   ]
  },
  {
   "cell_type": "code",
   "execution_count": 1042,
   "metadata": {},
   "outputs": [],
   "source": [
    "# Making dataframe from the scaled and encoded data\n",
    "columns_all = np.concatenate([num_nor, num_skew, cat_raw_2])\n",
    "columns_num = np.concatenate([num_nor, num_skew])\n",
    "X_train_final_df = pd.DataFrame(X_train_final, columns = columns_all)\n",
    "X_train_num_final = X_train_final_df[columns_num]\n",
    "X_train_cat_final = X_train_final_df[cat_raw_2]\n",
    "X_test_final_df = pd.DataFrame(X_test_final, columns = columns_all)"
   ]
  },
  {
   "cell_type": "code",
   "execution_count": 1043,
   "metadata": {},
   "outputs": [
    {
     "data": {
      "text/plain": [
       "array([[' <=50K'],\n",
       "       [' <=50K'],\n",
       "       [' <=50K'],\n",
       "       ...,\n",
       "       [' <=50K'],\n",
       "       [' <=50K'],\n",
       "       [' >50K']], dtype=object)"
      ]
     },
     "execution_count": 1043,
     "metadata": {},
     "output_type": "execute_result"
    }
   ],
   "source": [
    "# Convert dataframe to array\n",
    "y_train.to_numpy()"
   ]
  },
  {
   "cell_type": "code",
   "execution_count": 1044,
   "metadata": {},
   "outputs": [
    {
     "data": {
      "text/plain": [
       "education_num     3121.135794\n",
       "age               1548.777307\n",
       "hours_per_week    1342.639626\n",
       "capital_loss       573.944410\n",
       "dtype: float64"
      ]
     },
     "execution_count": 1044,
     "metadata": {},
     "output_type": "execute_result"
    }
   ],
   "source": [
    "# Check the correlation between train set with test set for features selection\n",
    "\n",
    "# ANOVA's method to look for significant differences between numerical features and categorical target\n",
    "select_ANOV = SelectKBest(score_func=f_classif, k = 4)\n",
    "num_list = select_ANOV.fit(X_train_num_final, y_train)\n",
    "num_result = pd.Series(num_list.scores_)\n",
    "num_result.index = X_train_num_final.columns\n",
    "num_result.sort_values(ascending = False)"
   ]
  },
  {
   "cell_type": "markdown",
   "metadata": {},
   "source": [
    "Statement :\n",
    "<br>\n",
    "3 columns with highest scores will be picked as numerical features."
   ]
  },
  {
   "cell_type": "code",
   "execution_count": 1045,
   "metadata": {},
   "outputs": [
    {
     "data": {
      "text/plain": [
       "marital_status    3205.547030\n",
       "relationship      2771.933560\n",
       "education         1239.679964\n",
       "sex                780.380522\n",
       "race               198.829648\n",
       "occupation         190.629488\n",
       "workclass           80.833586\n",
       "native_country      41.172785\n",
       "dtype: float64"
      ]
     },
     "execution_count": 1045,
     "metadata": {},
     "output_type": "execute_result"
    }
   ],
   "source": [
    "# Chi Square Method to seacrh the most relevant categorical features\n",
    "select_chi = SelectKBest(score_func = chi2, k = 8)\n",
    "cat_list = select_chi.fit(X_train_cat_final, y_train)\n",
    "cat_result = pd.Series(cat_list.scores_)\n",
    "cat_result.index = X_train_cat_final.columns\n",
    "cat_result.sort_values(ascending = False)"
   ]
  },
  {
   "cell_type": "markdown",
   "metadata": {},
   "source": [
    "Statement :\n",
    "<br>\n",
    "3 columns with highest scores will be picked as categorical features."
   ]
  },
  {
   "cell_type": "code",
   "execution_count": 1046,
   "metadata": {},
   "outputs": [],
   "source": [
    "# Make final dataframe that contains the most influential column for train and test set\n",
    "final_features = ['education_num' , 'age' , 'hours_per_week' , 'marital_status' , 'relationship', 'education']\n",
    "X_train_fix = X_train_final_df[final_features]\n",
    "X_test_fix = X_test_final_df[final_features]"
   ]
  },
  {
   "cell_type": "markdown",
   "metadata": {},
   "source": [
    "#### 5. Model Definition"
   ]
  },
  {
   "cell_type": "code",
   "execution_count": 1047,
   "metadata": {},
   "outputs": [],
   "source": [
    "# Logistic Regression Model\n",
    "logreg_model = LogisticRegression()\n",
    "\n",
    "# SVM Model\n",
    "SVM_model = SVC(kernel = 'rbf', random_state = 1)"
   ]
  },
  {
   "cell_type": "markdown",
   "metadata": {},
   "source": [
    "#### 6. Model Training"
   ]
  },
  {
   "cell_type": "code",
   "execution_count": 1048,
   "metadata": {},
   "outputs": [
    {
     "data": {
      "text/html": [
       "<style>#sk-container-id-14 {color: black;background-color: white;}#sk-container-id-14 pre{padding: 0;}#sk-container-id-14 div.sk-toggleable {background-color: white;}#sk-container-id-14 label.sk-toggleable__label {cursor: pointer;display: block;width: 100%;margin-bottom: 0;padding: 0.3em;box-sizing: border-box;text-align: center;}#sk-container-id-14 label.sk-toggleable__label-arrow:before {content: \"▸\";float: left;margin-right: 0.25em;color: #696969;}#sk-container-id-14 label.sk-toggleable__label-arrow:hover:before {color: black;}#sk-container-id-14 div.sk-estimator:hover label.sk-toggleable__label-arrow:before {color: black;}#sk-container-id-14 div.sk-toggleable__content {max-height: 0;max-width: 0;overflow: hidden;text-align: left;background-color: #f0f8ff;}#sk-container-id-14 div.sk-toggleable__content pre {margin: 0.2em;color: black;border-radius: 0.25em;background-color: #f0f8ff;}#sk-container-id-14 input.sk-toggleable__control:checked~div.sk-toggleable__content {max-height: 200px;max-width: 100%;overflow: auto;}#sk-container-id-14 input.sk-toggleable__control:checked~label.sk-toggleable__label-arrow:before {content: \"▾\";}#sk-container-id-14 div.sk-estimator input.sk-toggleable__control:checked~label.sk-toggleable__label {background-color: #d4ebff;}#sk-container-id-14 div.sk-label input.sk-toggleable__control:checked~label.sk-toggleable__label {background-color: #d4ebff;}#sk-container-id-14 input.sk-hidden--visually {border: 0;clip: rect(1px 1px 1px 1px);clip: rect(1px, 1px, 1px, 1px);height: 1px;margin: -1px;overflow: hidden;padding: 0;position: absolute;width: 1px;}#sk-container-id-14 div.sk-estimator {font-family: monospace;background-color: #f0f8ff;border: 1px dotted black;border-radius: 0.25em;box-sizing: border-box;margin-bottom: 0.5em;}#sk-container-id-14 div.sk-estimator:hover {background-color: #d4ebff;}#sk-container-id-14 div.sk-parallel-item::after {content: \"\";width: 100%;border-bottom: 1px solid gray;flex-grow: 1;}#sk-container-id-14 div.sk-label:hover label.sk-toggleable__label {background-color: #d4ebff;}#sk-container-id-14 div.sk-serial::before {content: \"\";position: absolute;border-left: 1px solid gray;box-sizing: border-box;top: 0;bottom: 0;left: 50%;z-index: 0;}#sk-container-id-14 div.sk-serial {display: flex;flex-direction: column;align-items: center;background-color: white;padding-right: 0.2em;padding-left: 0.2em;position: relative;}#sk-container-id-14 div.sk-item {position: relative;z-index: 1;}#sk-container-id-14 div.sk-parallel {display: flex;align-items: stretch;justify-content: center;background-color: white;position: relative;}#sk-container-id-14 div.sk-item::before, #sk-container-id-14 div.sk-parallel-item::before {content: \"\";position: absolute;border-left: 1px solid gray;box-sizing: border-box;top: 0;bottom: 0;left: 50%;z-index: -1;}#sk-container-id-14 div.sk-parallel-item {display: flex;flex-direction: column;z-index: 1;position: relative;background-color: white;}#sk-container-id-14 div.sk-parallel-item:first-child::after {align-self: flex-end;width: 50%;}#sk-container-id-14 div.sk-parallel-item:last-child::after {align-self: flex-start;width: 50%;}#sk-container-id-14 div.sk-parallel-item:only-child::after {width: 0;}#sk-container-id-14 div.sk-dashed-wrapped {border: 1px dashed gray;margin: 0 0.4em 0.5em 0.4em;box-sizing: border-box;padding-bottom: 0.4em;background-color: white;}#sk-container-id-14 div.sk-label label {font-family: monospace;font-weight: bold;display: inline-block;line-height: 1.2em;}#sk-container-id-14 div.sk-label-container {text-align: center;}#sk-container-id-14 div.sk-container {/* jupyter's `normalize.less` sets `[hidden] { display: none; }` but bootstrap.min.css set `[hidden] { display: none !important; }` so we also need the `!important` here to be able to override the default hidden behavior on the sphinx rendered scikit-learn.org. See: https://github.com/scikit-learn/scikit-learn/issues/21755 */display: inline-block !important;position: relative;}#sk-container-id-14 div.sk-text-repr-fallback {display: none;}</style><div id=\"sk-container-id-14\" class=\"sk-top-container\"><div class=\"sk-text-repr-fallback\"><pre>SVC(random_state=1)</pre><b>In a Jupyter environment, please rerun this cell to show the HTML representation or trust the notebook. <br />On GitHub, the HTML representation is unable to render, please try loading this page with nbviewer.org.</b></div><div class=\"sk-container\" hidden><div class=\"sk-item\"><div class=\"sk-estimator sk-toggleable\"><input class=\"sk-toggleable__control sk-hidden--visually\" id=\"sk-estimator-id-14\" type=\"checkbox\" checked><label for=\"sk-estimator-id-14\" class=\"sk-toggleable__label sk-toggleable__label-arrow\">SVC</label><div class=\"sk-toggleable__content\"><pre>SVC(random_state=1)</pre></div></div></div></div></div>"
      ],
      "text/plain": [
       "SVC(random_state=1)"
      ]
     },
     "execution_count": 1048,
     "metadata": {},
     "output_type": "execute_result"
    }
   ],
   "source": [
    "# Logistic Regression Training\n",
    "logreg_model.fit(X_train_fix , y_train)\n",
    "\n",
    "# SVM Training\n",
    "SVM_model.fit(X_train_fix, y_train)"
   ]
  },
  {
   "cell_type": "markdown",
   "metadata": {},
   "source": [
    "#### 7. Model Evaluation"
   ]
  },
  {
   "cell_type": "code",
   "execution_count": 1049,
   "metadata": {},
   "outputs": [],
   "source": [
    "# Predict using Logistic Regression\n",
    "logreg_pred_train = logreg_model.predict(X_train_fix)\n",
    "logreg_pred_test = logreg_model.predict(X_test_fix)\n",
    "\n",
    "# Predict using SVM\n",
    "SVM_pred_train = SVM_model.predict(X_train_fix)\n",
    "SVM_pred_test = SVM_model.predict(X_test_fix)"
   ]
  },
  {
   "cell_type": "code",
   "execution_count": 1050,
   "metadata": {},
   "outputs": [
    {
     "name": "stdout",
     "output_type": "stream",
     "text": [
      "Logistic Regression Model\n",
      "Train Accuracy Score :  81.28 %\n",
      "Test Accuracy Score :  80.92 %\n",
      "\n",
      "SVM Model Accuracy\n",
      "Train Accuracy Score :  81.73 %\n",
      "Test Accuracy Score :  81.51 %\n"
     ]
    }
   ],
   "source": [
    "# Compare the models accuracy\n",
    "print('Logistic Regression Model')\n",
    "print('Train Accuracy Score : ',round(accuracy_score(y_train,logreg_pred_train) * 100,2),'%')\n",
    "print('Test Accuracy Score : ',round(accuracy_score(y_test,logreg_pred_test) * 100,2),'%')\n",
    "print('')\n",
    "print('SVM Model Accuracy')\n",
    "print('Train Accuracy Score : ',round(accuracy_score(y_train,SVM_pred_train) * 100,2),'%')\n",
    "print('Test Accuracy Score : ',round(accuracy_score(y_test,SVM_pred_test) * 100,2),'%')"
   ]
  },
  {
   "cell_type": "markdown",
   "metadata": {},
   "source": [
    "Statement :\n",
    "<br>\n",
    "Logistic Regression and SVM Model both show a fairly high accuracy above 70%, and has a very small difference gap ( less than 1% ). Therefore, for the time being we can conclude that both of the models have a good-fit type."
   ]
  },
  {
   "cell_type": "code",
   "execution_count": 1051,
   "metadata": {},
   "outputs": [
    {
     "name": "stdout",
     "output_type": "stream",
     "text": [
      "Logistic Regression Train Confusion Matrix\n"
     ]
    },
    {
     "data": {
      "image/png": "[encoded data removed]",
      "text/plain": [
       "<Figure size 432x288 with 2 Axes>"
      ]
     },
     "metadata": {
      "needs_background": "light"
     },
     "output_type": "display_data"
    }
   ],
   "source": [
    "# Compare the models confusion matrix\n",
    "print('Logistic Regression Train Confusion Matrix')\n",
    "disp = plot_confusion_matrix(logreg_model, X_train_fix, y_train, cmap='Blues')"
   ]
  },
  {
   "cell_type": "code",
   "execution_count": 1052,
   "metadata": {},
   "outputs": [
    {
     "name": "stdout",
     "output_type": "stream",
     "text": [
      "SVM Train Confusion Matrix\n"
     ]
    },
    {
     "data": {
      "image/png": "[encoded data removed]",
      "text/plain": [
       "<Figure size 432x288 with 2 Axes>"
      ]
     },
     "metadata": {
      "needs_background": "light"
     },
     "output_type": "display_data"
    }
   ],
   "source": [
    "print('SVM Train Confusion Matrix')\n",
    "disp = plot_confusion_matrix(SVM_model, X_train_fix, y_train, cmap='Blues')"
   ]
  },
  {
   "cell_type": "code",
   "execution_count": 1053,
   "metadata": {},
   "outputs": [
    {
     "name": "stdout",
     "output_type": "stream",
     "text": [
      "Logistic Regression Test Confusion Matrix\n"
     ]
    },
    {
     "data": {
      "image/png": "[encoded data removed]",
      "text/plain": [
       "<Figure size 432x288 with 2 Axes>"
      ]
     },
     "metadata": {
      "needs_background": "light"
     },
     "output_type": "display_data"
    }
   ],
   "source": [
    "print('Logistic Regression Test Confusion Matrix')\n",
    "disp = plot_confusion_matrix(logreg_model, X_test_fix, y_test, cmap='Blues')"
   ]
  },
  {
   "cell_type": "code",
   "execution_count": 1054,
   "metadata": {},
   "outputs": [
    {
     "name": "stdout",
     "output_type": "stream",
     "text": [
      "SVM Train Confusion Matrix\n"
     ]
    },
    {
     "data": {
      "image/png": "[encoded data removed]",
      "text/plain": [
       "<Figure size 432x288 with 2 Axes>"
      ]
     },
     "metadata": {
      "needs_background": "light"
     },
     "output_type": "display_data"
    }
   ],
   "source": [
    "print('SVM Train Confusion Matrix')\n",
    "disp = plot_confusion_matrix(SVM_model, X_test_fix, y_test, cmap='Blues')"
   ]
  },
  {
   "cell_type": "markdown",
   "metadata": {},
   "source": [
    "Statement :\n",
    "<br>\n",
    "Confusion Matrix for train test set for every model shows that there is an imbalance of prediction's composition. Target's test and train set is dominated by `<=50K`.\n",
    "<br>\n",
    "Check using F1 score is needed."
   ]
  },
  {
   "cell_type": "code",
   "execution_count": 1055,
   "metadata": {},
   "outputs": [
    {
     "name": "stdout",
     "output_type": "stream",
     "text": [
      "Logistic Regression\n",
      "Train set report\n",
      "              precision    recall  f1-score   support\n",
      "\n",
      "       <=50K       0.84      0.93      0.88     18095\n",
      "        >50K       0.68      0.47      0.56      6026\n",
      "\n",
      "    accuracy                           0.81     24121\n",
      "   macro avg       0.76      0.70      0.72     24121\n",
      "weighted avg       0.80      0.81      0.80     24121\n",
      "\n",
      "Test set report\n",
      "              precision    recall  f1-score   support\n",
      "\n",
      "       <=50K       0.84      0.92      0.88      4551\n",
      "        >50K       0.66      0.46      0.54      1480\n",
      "\n",
      "    accuracy                           0.81      6031\n",
      "   macro avg       0.75      0.69      0.71      6031\n",
      "weighted avg       0.80      0.81      0.80      6031\n",
      "\n"
     ]
    }
   ],
   "source": [
    "# Logistic Regression Model's Report\n",
    "print('Logistic Regression')\n",
    "print('Train set report')\n",
    "print(classification_report(y_train,logreg_pred_train))\n",
    "print('Test set report')\n",
    "print(classification_report(y_test,logreg_pred_test))"
   ]
  },
  {
   "cell_type": "code",
   "execution_count": 1056,
   "metadata": {},
   "outputs": [
    {
     "name": "stdout",
     "output_type": "stream",
     "text": [
      "SVM\n",
      "Train set report\n",
      "              precision    recall  f1-score   support\n",
      "\n",
      "       <=50K       0.83      0.94      0.89     18095\n",
      "        >50K       0.72      0.43      0.54      6026\n",
      "\n",
      "    accuracy                           0.82     24121\n",
      "   macro avg       0.78      0.69      0.71     24121\n",
      "weighted avg       0.81      0.82      0.80     24121\n",
      "\n",
      "Test set report\n",
      "              precision    recall  f1-score   support\n",
      "\n",
      "       <=50K       0.83      0.94      0.89      4551\n",
      "        >50K       0.71      0.42      0.53      1480\n",
      "\n",
      "    accuracy                           0.82      6031\n",
      "   macro avg       0.77      0.68      0.71      6031\n",
      "weighted avg       0.80      0.82      0.80      6031\n",
      "\n"
     ]
    }
   ],
   "source": [
    "# LSVM Model's Report\n",
    "print('SVM')\n",
    "print('Train set report')\n",
    "print(classification_report(y_train,SVM_pred_train))\n",
    "print('Test set report')\n",
    "print(classification_report(y_test,SVM_pred_test))"
   ]
  },
  {
   "cell_type": "markdown",
   "metadata": {},
   "source": [
    "Statement :\n",
    "<br>\n",
    "Based on f1-score, both models show that prediction >50K for every dataset is terrible. All of them is below than 0.7 and have a very large gap between <=50K and >50K which caused by target's imbalance.\n",
    "<br>\n",
    "Therefore, I conclude that both of the models are not good enough to predict ( under-fitting )."
   ]
  },
  {
   "cell_type": "markdown",
   "metadata": {},
   "source": [
    "#### 8. Model Inference"
   ]
  },
  {
   "cell_type": "code",
   "execution_count": 1057,
   "metadata": {},
   "outputs": [],
   "source": [
    "# Split data base on type and distribution type\n",
    "data_inf_num_nor = data_inf[num_nor]\n",
    "data_inf_num_skew = data_inf[num_skew]\n",
    "data_inf_cat = data_inf[cat_raw_2]"
   ]
  },
  {
   "cell_type": "code",
   "execution_count": 1058,
   "metadata": {},
   "outputs": [],
   "source": [
    "# Inference data scaling and encoding\n",
    "data_inf_num_nor_scaled = nor_scaler.transform(data_inf_num_nor)\n",
    "data_inf_num_skew_scaled = skew_scaler.transform(data_inf_num_nor)\n",
    "data_inf_cat_encoded = encoder.transform(data_inf_cat)"
   ]
  },
  {
   "cell_type": "code",
   "execution_count": 1059,
   "metadata": {},
   "outputs": [],
   "source": [
    "# Combine the numerical and categorical columns\n",
    "data_inf_final_df = pd.DataFrame(np.concatenate([data_inf_num_nor_scaled, data_inf_num_skew_scaled, data_inf_cat_encoded], axis=1), columns = columns_all)\n",
    "data_inf_fix = data_inf_final_df[final_features]"
   ]
  },
  {
   "cell_type": "code",
   "execution_count": 1060,
   "metadata": {},
   "outputs": [],
   "source": [
    "# Predict using Logistic Regression\n",
    "logreg_pred_inf = logreg_model.predict(data_inf_fix)\n",
    "\n",
    "# Predict using SVM\n",
    "SVM_pred_inf = SVM_model.predict(data_inf_fix)"
   ]
  },
  {
   "cell_type": "code",
   "execution_count": 1061,
   "metadata": {},
   "outputs": [],
   "source": [
    "# Convert the predict results into dataframes\n",
    "linreg_pred_inf_df = pd.DataFrame(logreg_pred_inf, columns = ['income_bracket LogReg'])\n",
    "SVM_pred_inf_df = pd.DataFrame(SVM_pred_inf, columns = ['income_bracket SVM'])"
   ]
  },
  {
   "cell_type": "code",
   "execution_count": 1062,
   "metadata": {},
   "outputs": [
    {
     "data": {
      "text/html": [
       "<div>\n",
       "<style scoped>\n",
       "    .dataframe tbody tr th:only-of-type {\n",
       "        vertical-align: middle;\n",
       "    }\n",
       "\n",
       "    .dataframe tbody tr th {\n",
       "        vertical-align: top;\n",
       "    }\n",
       "\n",
       "    .dataframe thead th {\n",
       "        text-align: right;\n",
       "    }\n",
       "</style>\n",
       "<table border=\"1\" class=\"dataframe\">\n",
       "  <thead>\n",
       "    <tr style=\"text-align: right;\">\n",
       "      <th></th>\n",
       "      <th>age</th>\n",
       "      <th>workclass</th>\n",
       "      <th>education</th>\n",
       "      <th>education_num</th>\n",
       "      <th>marital_status</th>\n",
       "      <th>occupation</th>\n",
       "      <th>relationship</th>\n",
       "      <th>race</th>\n",
       "      <th>sex</th>\n",
       "      <th>capital_gain</th>\n",
       "      <th>capital_loss</th>\n",
       "      <th>hours_per_week</th>\n",
       "      <th>native_country</th>\n",
       "      <th>income_bracket</th>\n",
       "      <th>income_bracket LogReg</th>\n",
       "      <th>income_bracket SVM</th>\n",
       "    </tr>\n",
       "  </thead>\n",
       "  <tbody>\n",
       "    <tr>\n",
       "      <th>0</th>\n",
       "      <td>59</td>\n",
       "      <td>Federal-gov</td>\n",
       "      <td>SHS</td>\n",
       "      <td>9</td>\n",
       "      <td>Married-civ-spouse</td>\n",
       "      <td>Technician</td>\n",
       "      <td>Husband</td>\n",
       "      <td>White</td>\n",
       "      <td>Male</td>\n",
       "      <td>0</td>\n",
       "      <td>0</td>\n",
       "      <td>40</td>\n",
       "      <td>US</td>\n",
       "      <td>&gt;50K</td>\n",
       "      <td>&lt;=50K</td>\n",
       "      <td>&lt;=50K</td>\n",
       "    </tr>\n",
       "    <tr>\n",
       "      <th>1</th>\n",
       "      <td>37</td>\n",
       "      <td>Private</td>\n",
       "      <td>College</td>\n",
       "      <td>12</td>\n",
       "      <td>Divorced</td>\n",
       "      <td>Professional</td>\n",
       "      <td>Unmarried</td>\n",
       "      <td>White</td>\n",
       "      <td>Male</td>\n",
       "      <td>0</td>\n",
       "      <td>0</td>\n",
       "      <td>25</td>\n",
       "      <td>US</td>\n",
       "      <td>&lt;=50K</td>\n",
       "      <td>&lt;=50K</td>\n",
       "      <td>&lt;=50K</td>\n",
       "    </tr>\n",
       "    <tr>\n",
       "      <th>2</th>\n",
       "      <td>26</td>\n",
       "      <td>Private</td>\n",
       "      <td>Post_Grad</td>\n",
       "      <td>14</td>\n",
       "      <td>Married-civ-spouse</td>\n",
       "      <td>Office_worker</td>\n",
       "      <td>Wife</td>\n",
       "      <td>White</td>\n",
       "      <td>Female</td>\n",
       "      <td>0</td>\n",
       "      <td>0</td>\n",
       "      <td>40</td>\n",
       "      <td>US</td>\n",
       "      <td>&lt;=50K</td>\n",
       "      <td>&lt;=50K</td>\n",
       "      <td>&gt;50K</td>\n",
       "    </tr>\n",
       "    <tr>\n",
       "      <th>3</th>\n",
       "      <td>33</td>\n",
       "      <td>Private</td>\n",
       "      <td>SHS</td>\n",
       "      <td>9</td>\n",
       "      <td>Married-civ-spouse</td>\n",
       "      <td>Other-service</td>\n",
       "      <td>Husband</td>\n",
       "      <td>White</td>\n",
       "      <td>Male</td>\n",
       "      <td>0</td>\n",
       "      <td>0</td>\n",
       "      <td>40</td>\n",
       "      <td>US</td>\n",
       "      <td>&lt;=50K</td>\n",
       "      <td>&lt;=50K</td>\n",
       "      <td>&lt;=50K</td>\n",
       "    </tr>\n",
       "    <tr>\n",
       "      <th>4</th>\n",
       "      <td>31</td>\n",
       "      <td>Private</td>\n",
       "      <td>College</td>\n",
       "      <td>10</td>\n",
       "      <td>Married-civ-spouse</td>\n",
       "      <td>Technician</td>\n",
       "      <td>Husband</td>\n",
       "      <td>White</td>\n",
       "      <td>Male</td>\n",
       "      <td>0</td>\n",
       "      <td>0</td>\n",
       "      <td>40</td>\n",
       "      <td>US</td>\n",
       "      <td>&lt;=50K</td>\n",
       "      <td>&lt;=50K</td>\n",
       "      <td>&lt;=50K</td>\n",
       "    </tr>\n",
       "    <tr>\n",
       "      <th>5</th>\n",
       "      <td>51</td>\n",
       "      <td>Private</td>\n",
       "      <td>SHS</td>\n",
       "      <td>9</td>\n",
       "      <td>Married-civ-spouse</td>\n",
       "      <td>Operator</td>\n",
       "      <td>Husband</td>\n",
       "      <td>White</td>\n",
       "      <td>Male</td>\n",
       "      <td>0</td>\n",
       "      <td>0</td>\n",
       "      <td>40</td>\n",
       "      <td>US</td>\n",
       "      <td>&lt;=50K</td>\n",
       "      <td>&lt;=50K</td>\n",
       "      <td>&lt;=50K</td>\n",
       "    </tr>\n",
       "    <tr>\n",
       "      <th>6</th>\n",
       "      <td>37</td>\n",
       "      <td>Self-emp-inc</td>\n",
       "      <td>College</td>\n",
       "      <td>12</td>\n",
       "      <td>Married-civ-spouse</td>\n",
       "      <td>Office_worker</td>\n",
       "      <td>Husband</td>\n",
       "      <td>White</td>\n",
       "      <td>Male</td>\n",
       "      <td>0</td>\n",
       "      <td>0</td>\n",
       "      <td>68</td>\n",
       "      <td>US</td>\n",
       "      <td>&lt;=50K</td>\n",
       "      <td>&lt;=50K</td>\n",
       "      <td>&gt;50K</td>\n",
       "    </tr>\n",
       "    <tr>\n",
       "      <th>7</th>\n",
       "      <td>33</td>\n",
       "      <td>Private</td>\n",
       "      <td>College</td>\n",
       "      <td>10</td>\n",
       "      <td>Separated</td>\n",
       "      <td>Office_worker</td>\n",
       "      <td>Unmarried</td>\n",
       "      <td>White</td>\n",
       "      <td>Female</td>\n",
       "      <td>0</td>\n",
       "      <td>0</td>\n",
       "      <td>40</td>\n",
       "      <td>US</td>\n",
       "      <td>&lt;=50K</td>\n",
       "      <td>&lt;=50K</td>\n",
       "      <td>&lt;=50K</td>\n",
       "    </tr>\n",
       "    <tr>\n",
       "      <th>8</th>\n",
       "      <td>64</td>\n",
       "      <td>Federal-gov</td>\n",
       "      <td>Doctorate</td>\n",
       "      <td>16</td>\n",
       "      <td>Married-civ-spouse</td>\n",
       "      <td>Professional</td>\n",
       "      <td>Husband</td>\n",
       "      <td>Asian-Pac-Islander</td>\n",
       "      <td>Male</td>\n",
       "      <td>0</td>\n",
       "      <td>0</td>\n",
       "      <td>40</td>\n",
       "      <td>non US</td>\n",
       "      <td>&gt;50K</td>\n",
       "      <td>&gt;50K</td>\n",
       "      <td>&gt;50K</td>\n",
       "    </tr>\n",
       "    <tr>\n",
       "      <th>9</th>\n",
       "      <td>25</td>\n",
       "      <td>Private</td>\n",
       "      <td>Bachelors</td>\n",
       "      <td>13</td>\n",
       "      <td>Never-married</td>\n",
       "      <td>Operator</td>\n",
       "      <td>Own-child</td>\n",
       "      <td>White</td>\n",
       "      <td>Male</td>\n",
       "      <td>0</td>\n",
       "      <td>0</td>\n",
       "      <td>60</td>\n",
       "      <td>US</td>\n",
       "      <td>&lt;=50K</td>\n",
       "      <td>&lt;=50K</td>\n",
       "      <td>&lt;=50K</td>\n",
       "    </tr>\n",
       "  </tbody>\n",
       "</table>\n",
       "</div>"
      ],
      "text/plain": [
       "   age      workclass   education  education_num       marital_status  \\\n",
       "0   59    Federal-gov         SHS              9   Married-civ-spouse   \n",
       "1   37        Private     College             12             Divorced   \n",
       "2   26        Private   Post_Grad             14   Married-civ-spouse   \n",
       "3   33        Private         SHS              9   Married-civ-spouse   \n",
       "4   31        Private     College             10   Married-civ-spouse   \n",
       "5   51        Private         SHS              9   Married-civ-spouse   \n",
       "6   37   Self-emp-inc     College             12   Married-civ-spouse   \n",
       "7   33        Private     College             10            Separated   \n",
       "8   64    Federal-gov   Doctorate             16   Married-civ-spouse   \n",
       "9   25        Private   Bachelors             13        Never-married   \n",
       "\n",
       "       occupation relationship                 race      sex  capital_gain  \\\n",
       "0      Technician      Husband                White     Male             0   \n",
       "1    Professional    Unmarried                White     Male             0   \n",
       "2   Office_worker         Wife                White   Female             0   \n",
       "3   Other-service      Husband                White     Male             0   \n",
       "4      Technician      Husband                White     Male             0   \n",
       "5        Operator      Husband                White     Male             0   \n",
       "6   Office_worker      Husband                White     Male             0   \n",
       "7   Office_worker    Unmarried                White   Female             0   \n",
       "8    Professional      Husband   Asian-Pac-Islander     Male             0   \n",
       "9        Operator    Own-child                White     Male             0   \n",
       "\n",
       "   capital_loss  hours_per_week native_country income_bracket  \\\n",
       "0             0              40             US           >50K   \n",
       "1             0              25             US          <=50K   \n",
       "2             0              40             US          <=50K   \n",
       "3             0              40             US          <=50K   \n",
       "4             0              40             US          <=50K   \n",
       "5             0              40             US          <=50K   \n",
       "6             0              68             US          <=50K   \n",
       "7             0              40             US          <=50K   \n",
       "8             0              40         non US           >50K   \n",
       "9             0              60             US          <=50K   \n",
       "\n",
       "  income_bracket LogReg income_bracket SVM  \n",
       "0                 <=50K              <=50K  \n",
       "1                 <=50K              <=50K  \n",
       "2                 <=50K               >50K  \n",
       "3                 <=50K              <=50K  \n",
       "4                 <=50K              <=50K  \n",
       "5                 <=50K              <=50K  \n",
       "6                 <=50K               >50K  \n",
       "7                 <=50K              <=50K  \n",
       "8                  >50K               >50K  \n",
       "9                 <=50K              <=50K  "
      ]
     },
     "execution_count": 1062,
     "metadata": {},
     "output_type": "execute_result"
    }
   ],
   "source": [
    "pd.concat([data_inf, linreg_pred_inf_df, SVM_pred_inf_df], axis = 1)"
   ]
  },
  {
   "cell_type": "markdown",
   "metadata": {},
   "source": [
    "Statement :\n",
    "<br>\n",
    "Based on Inference Model results, Logistic Regression only wrong prediction once while SVM wrong predict twice. It doesn't represent anything but a sampling of the predicted results."
   ]
  },
  {
   "cell_type": "markdown",
   "metadata": {},
   "source": [
    "#### 9. Conclusions\n",
    "1. columns named 'education_num' , 'age' , 'hours_per_week' , 'marital_status' , 'relationship', and 'education' is really affect the income bracket by ANOVA method's and Chi Squared method's.\n",
    "<br>\n",
    "While the columns named 'capital_gain' and 'capital_loss' has absurd data distribution with extreme skewness value ( far above 1 or far less than -1 ), and even though they have a really small amount of outliers data, they need to be terminated since the data distribution is extremely absurd.\n",
    "<br>\n",
    "Columns named 'education', 'occupation', and 'native_country' have very high cardinality and needed to be reduced.\n",
    "<br>\n",
    "2. Neither Logistic Regression nor SVM has a performance that could not be determined good enough.\n",
    "<br>\n",
    "Both of them are good at predicting <=50K value, but the >50K is barely predicted. Since the F1 value for <=50K is around 0.8 for both models, and >50K F1 value for both models is less than 0.5.\n",
    "<br>\n",
    "Even though the accuracy of their predicted is very good, but it is caused by the <=50K value dominating.\n",
    "<br>\n",
    "3. There are few methods that probably able to improve the accuracy of models, such as:\n",
    "- Change the outliers handling method to capping.\n",
    "- Reduce the cardinality.\n",
    "- Change the ordinal encoding method into one hot encoding.\n",
    "- Handling the dominating of <=50K target class.\n",
    "- Change the parameters in Logistic Regression and/or SVM."
   ]
  }
 ],
 "metadata": {
  "kernelspec": {
   "display_name": "Python 3.9.12 ('base')",
   "language": "python",
   "name": "python3"
  },
  "language_info": {
   "codemirror_mode": {
    "name": "ipython",
    "version": 3
   },
   "file_extension": ".py",
   "mimetype": "text/x-python",
   "name": "python",
   "nbconvert_exporter": "python",
   "pygments_lexer": "ipython3",
   "version": "3.9.13 (main, Aug 25 2022, 23:51:50) [MSC v.1916 64 bit (AMD64)]"
  },
  "orig_nbformat": 4,
  "vscode": {
   "interpreter": {
    "hash": "db73a3f725d25edc1898cf086846c00279f921a2aff9b8dd881a6ae47174c5ed"
   }
  }
 },
 "nbformat": 4,
 "nbformat_minor": 2
}
